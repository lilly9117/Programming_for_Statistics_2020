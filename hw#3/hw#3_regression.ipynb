{
 "cells": [
  {
   "cell_type": "markdown",
   "metadata": {},
   "source": [
    "### Programming for Statistics HW#3"
   ]
  },
  {
   "cell_type": "markdown",
   "metadata": {},
   "source": [
    " "
   ]
  },
  {
   "cell_type": "markdown",
   "metadata": {},
   "source": [
    "#### a) Load data"
   ]
  },
  {
   "cell_type": "code",
   "execution_count": 60,
   "metadata": {},
   "outputs": [],
   "source": [
    "#필요할 라이브러리 불러오기\n",
    "\n",
    "import pandas as pd\n",
    "import numpy as np"
   ]
  },
  {
   "cell_type": "code",
   "execution_count": 61,
   "metadata": {},
   "outputs": [],
   "source": [
    "data_x = pd.read_csv('X.csv') #csv파일 불러오기\n",
    "data_y = pd.read_csv('y.csv')"
   ]
  },
  {
   "cell_type": "code",
   "execution_count": 62,
   "metadata": {},
   "outputs": [
    {
     "data": {
      "text/html": [
       "<div>\n",
       "<style scoped>\n",
       "    .dataframe tbody tr th:only-of-type {\n",
       "        vertical-align: middle;\n",
       "    }\n",
       "\n",
       "    .dataframe tbody tr th {\n",
       "        vertical-align: top;\n",
       "    }\n",
       "\n",
       "    .dataframe thead th {\n",
       "        text-align: right;\n",
       "    }\n",
       "</style>\n",
       "<table border=\"1\" class=\"dataframe\">\n",
       "  <thead>\n",
       "    <tr style=\"text-align: right;\">\n",
       "      <th></th>\n",
       "      <th>(Intercept)</th>\n",
       "      <th>AtBat</th>\n",
       "      <th>Hits</th>\n",
       "      <th>HmRun</th>\n",
       "      <th>Runs</th>\n",
       "      <th>RBI</th>\n",
       "      <th>Walks</th>\n",
       "      <th>Years</th>\n",
       "      <th>CAtBat</th>\n",
       "      <th>CHits</th>\n",
       "      <th>CHmRun</th>\n",
       "      <th>CRuns</th>\n",
       "      <th>CRBI</th>\n",
       "      <th>CWalks</th>\n",
       "      <th>LeagueN</th>\n",
       "      <th>DivisionW</th>\n",
       "      <th>PutOuts</th>\n",
       "      <th>Assists</th>\n",
       "      <th>Errors</th>\n",
       "      <th>NewLeagueN</th>\n",
       "    </tr>\n",
       "  </thead>\n",
       "  <tbody>\n",
       "    <tr>\n",
       "      <td>0</td>\n",
       "      <td>1</td>\n",
       "      <td>315</td>\n",
       "      <td>81</td>\n",
       "      <td>7</td>\n",
       "      <td>24</td>\n",
       "      <td>38</td>\n",
       "      <td>39</td>\n",
       "      <td>14</td>\n",
       "      <td>3449</td>\n",
       "      <td>835</td>\n",
       "      <td>69</td>\n",
       "      <td>321</td>\n",
       "      <td>414</td>\n",
       "      <td>375</td>\n",
       "      <td>1</td>\n",
       "      <td>1</td>\n",
       "      <td>632</td>\n",
       "      <td>43</td>\n",
       "      <td>10</td>\n",
       "      <td>1</td>\n",
       "    </tr>\n",
       "    <tr>\n",
       "      <td>1</td>\n",
       "      <td>1</td>\n",
       "      <td>479</td>\n",
       "      <td>130</td>\n",
       "      <td>18</td>\n",
       "      <td>66</td>\n",
       "      <td>72</td>\n",
       "      <td>76</td>\n",
       "      <td>3</td>\n",
       "      <td>1624</td>\n",
       "      <td>457</td>\n",
       "      <td>63</td>\n",
       "      <td>224</td>\n",
       "      <td>266</td>\n",
       "      <td>263</td>\n",
       "      <td>0</td>\n",
       "      <td>1</td>\n",
       "      <td>880</td>\n",
       "      <td>82</td>\n",
       "      <td>14</td>\n",
       "      <td>0</td>\n",
       "    </tr>\n",
       "    <tr>\n",
       "      <td>2</td>\n",
       "      <td>1</td>\n",
       "      <td>496</td>\n",
       "      <td>141</td>\n",
       "      <td>20</td>\n",
       "      <td>65</td>\n",
       "      <td>78</td>\n",
       "      <td>37</td>\n",
       "      <td>11</td>\n",
       "      <td>5628</td>\n",
       "      <td>1575</td>\n",
       "      <td>225</td>\n",
       "      <td>828</td>\n",
       "      <td>838</td>\n",
       "      <td>354</td>\n",
       "      <td>1</td>\n",
       "      <td>0</td>\n",
       "      <td>200</td>\n",
       "      <td>11</td>\n",
       "      <td>3</td>\n",
       "      <td>1</td>\n",
       "    </tr>\n",
       "    <tr>\n",
       "      <td>3</td>\n",
       "      <td>1</td>\n",
       "      <td>321</td>\n",
       "      <td>87</td>\n",
       "      <td>10</td>\n",
       "      <td>39</td>\n",
       "      <td>42</td>\n",
       "      <td>30</td>\n",
       "      <td>2</td>\n",
       "      <td>396</td>\n",
       "      <td>101</td>\n",
       "      <td>12</td>\n",
       "      <td>48</td>\n",
       "      <td>46</td>\n",
       "      <td>33</td>\n",
       "      <td>1</td>\n",
       "      <td>0</td>\n",
       "      <td>805</td>\n",
       "      <td>40</td>\n",
       "      <td>4</td>\n",
       "      <td>1</td>\n",
       "    </tr>\n",
       "    <tr>\n",
       "      <td>4</td>\n",
       "      <td>1</td>\n",
       "      <td>594</td>\n",
       "      <td>169</td>\n",
       "      <td>4</td>\n",
       "      <td>74</td>\n",
       "      <td>51</td>\n",
       "      <td>35</td>\n",
       "      <td>11</td>\n",
       "      <td>4408</td>\n",
       "      <td>1133</td>\n",
       "      <td>19</td>\n",
       "      <td>501</td>\n",
       "      <td>336</td>\n",
       "      <td>194</td>\n",
       "      <td>0</td>\n",
       "      <td>1</td>\n",
       "      <td>282</td>\n",
       "      <td>421</td>\n",
       "      <td>25</td>\n",
       "      <td>0</td>\n",
       "    </tr>\n",
       "    <tr>\n",
       "      <td>...</td>\n",
       "      <td>...</td>\n",
       "      <td>...</td>\n",
       "      <td>...</td>\n",
       "      <td>...</td>\n",
       "      <td>...</td>\n",
       "      <td>...</td>\n",
       "      <td>...</td>\n",
       "      <td>...</td>\n",
       "      <td>...</td>\n",
       "      <td>...</td>\n",
       "      <td>...</td>\n",
       "      <td>...</td>\n",
       "      <td>...</td>\n",
       "      <td>...</td>\n",
       "      <td>...</td>\n",
       "      <td>...</td>\n",
       "      <td>...</td>\n",
       "      <td>...</td>\n",
       "      <td>...</td>\n",
       "      <td>...</td>\n",
       "    </tr>\n",
       "    <tr>\n",
       "      <td>258</td>\n",
       "      <td>1</td>\n",
       "      <td>497</td>\n",
       "      <td>127</td>\n",
       "      <td>7</td>\n",
       "      <td>65</td>\n",
       "      <td>48</td>\n",
       "      <td>37</td>\n",
       "      <td>5</td>\n",
       "      <td>2703</td>\n",
       "      <td>806</td>\n",
       "      <td>32</td>\n",
       "      <td>379</td>\n",
       "      <td>311</td>\n",
       "      <td>138</td>\n",
       "      <td>1</td>\n",
       "      <td>0</td>\n",
       "      <td>325</td>\n",
       "      <td>9</td>\n",
       "      <td>3</td>\n",
       "      <td>1</td>\n",
       "    </tr>\n",
       "    <tr>\n",
       "      <td>259</td>\n",
       "      <td>1</td>\n",
       "      <td>492</td>\n",
       "      <td>136</td>\n",
       "      <td>5</td>\n",
       "      <td>76</td>\n",
       "      <td>50</td>\n",
       "      <td>94</td>\n",
       "      <td>12</td>\n",
       "      <td>5511</td>\n",
       "      <td>1511</td>\n",
       "      <td>39</td>\n",
       "      <td>897</td>\n",
       "      <td>451</td>\n",
       "      <td>875</td>\n",
       "      <td>0</td>\n",
       "      <td>0</td>\n",
       "      <td>313</td>\n",
       "      <td>381</td>\n",
       "      <td>20</td>\n",
       "      <td>0</td>\n",
       "    </tr>\n",
       "    <tr>\n",
       "      <td>260</td>\n",
       "      <td>1</td>\n",
       "      <td>475</td>\n",
       "      <td>126</td>\n",
       "      <td>3</td>\n",
       "      <td>61</td>\n",
       "      <td>43</td>\n",
       "      <td>52</td>\n",
       "      <td>6</td>\n",
       "      <td>1700</td>\n",
       "      <td>433</td>\n",
       "      <td>7</td>\n",
       "      <td>217</td>\n",
       "      <td>93</td>\n",
       "      <td>146</td>\n",
       "      <td>0</td>\n",
       "      <td>1</td>\n",
       "      <td>37</td>\n",
       "      <td>113</td>\n",
       "      <td>7</td>\n",
       "      <td>0</td>\n",
       "    </tr>\n",
       "    <tr>\n",
       "      <td>261</td>\n",
       "      <td>1</td>\n",
       "      <td>573</td>\n",
       "      <td>144</td>\n",
       "      <td>9</td>\n",
       "      <td>85</td>\n",
       "      <td>60</td>\n",
       "      <td>78</td>\n",
       "      <td>8</td>\n",
       "      <td>3198</td>\n",
       "      <td>857</td>\n",
       "      <td>97</td>\n",
       "      <td>470</td>\n",
       "      <td>420</td>\n",
       "      <td>332</td>\n",
       "      <td>0</td>\n",
       "      <td>0</td>\n",
       "      <td>1314</td>\n",
       "      <td>131</td>\n",
       "      <td>12</td>\n",
       "      <td>0</td>\n",
       "    </tr>\n",
       "    <tr>\n",
       "      <td>262</td>\n",
       "      <td>1</td>\n",
       "      <td>631</td>\n",
       "      <td>170</td>\n",
       "      <td>9</td>\n",
       "      <td>77</td>\n",
       "      <td>44</td>\n",
       "      <td>31</td>\n",
       "      <td>11</td>\n",
       "      <td>4908</td>\n",
       "      <td>1457</td>\n",
       "      <td>30</td>\n",
       "      <td>775</td>\n",
       "      <td>357</td>\n",
       "      <td>249</td>\n",
       "      <td>0</td>\n",
       "      <td>1</td>\n",
       "      <td>408</td>\n",
       "      <td>4</td>\n",
       "      <td>3</td>\n",
       "      <td>0</td>\n",
       "    </tr>\n",
       "  </tbody>\n",
       "</table>\n",
       "<p>263 rows × 20 columns</p>\n",
       "</div>"
      ],
      "text/plain": [
       "     (Intercept)  AtBat  Hits  HmRun  Runs  RBI  Walks  Years  CAtBat  CHits  \\\n",
       "0              1    315    81      7    24   38     39     14    3449    835   \n",
       "1              1    479   130     18    66   72     76      3    1624    457   \n",
       "2              1    496   141     20    65   78     37     11    5628   1575   \n",
       "3              1    321    87     10    39   42     30      2     396    101   \n",
       "4              1    594   169      4    74   51     35     11    4408   1133   \n",
       "..           ...    ...   ...    ...   ...  ...    ...    ...     ...    ...   \n",
       "258            1    497   127      7    65   48     37      5    2703    806   \n",
       "259            1    492   136      5    76   50     94     12    5511   1511   \n",
       "260            1    475   126      3    61   43     52      6    1700    433   \n",
       "261            1    573   144      9    85   60     78      8    3198    857   \n",
       "262            1    631   170      9    77   44     31     11    4908   1457   \n",
       "\n",
       "     CHmRun  CRuns  CRBI  CWalks  LeagueN  DivisionW  PutOuts  Assists  \\\n",
       "0        69    321   414     375        1          1      632       43   \n",
       "1        63    224   266     263        0          1      880       82   \n",
       "2       225    828   838     354        1          0      200       11   \n",
       "3        12     48    46      33        1          0      805       40   \n",
       "4        19    501   336     194        0          1      282      421   \n",
       "..      ...    ...   ...     ...      ...        ...      ...      ...   \n",
       "258      32    379   311     138        1          0      325        9   \n",
       "259      39    897   451     875        0          0      313      381   \n",
       "260       7    217    93     146        0          1       37      113   \n",
       "261      97    470   420     332        0          0     1314      131   \n",
       "262      30    775   357     249        0          1      408        4   \n",
       "\n",
       "     Errors  NewLeagueN  \n",
       "0        10           1  \n",
       "1        14           0  \n",
       "2         3           1  \n",
       "3         4           1  \n",
       "4        25           0  \n",
       "..      ...         ...  \n",
       "258       3           1  \n",
       "259      20           0  \n",
       "260       7           0  \n",
       "261      12           0  \n",
       "262       3           0  \n",
       "\n",
       "[263 rows x 20 columns]"
      ]
     },
     "execution_count": 62,
     "metadata": {},
     "output_type": "execute_result"
    }
   ],
   "source": [
    "data_x"
   ]
  },
  {
   "cell_type": "code",
   "execution_count": 63,
   "metadata": {
    "scrolled": false
   },
   "outputs": [
    {
     "data": {
      "text/html": [
       "<div>\n",
       "<style scoped>\n",
       "    .dataframe tbody tr th:only-of-type {\n",
       "        vertical-align: middle;\n",
       "    }\n",
       "\n",
       "    .dataframe tbody tr th {\n",
       "        vertical-align: top;\n",
       "    }\n",
       "\n",
       "    .dataframe thead th {\n",
       "        text-align: right;\n",
       "    }\n",
       "</style>\n",
       "<table border=\"1\" class=\"dataframe\">\n",
       "  <thead>\n",
       "    <tr style=\"text-align: right;\">\n",
       "      <th></th>\n",
       "      <th>x</th>\n",
       "    </tr>\n",
       "  </thead>\n",
       "  <tbody>\n",
       "    <tr>\n",
       "      <td>0</td>\n",
       "      <td>475.0</td>\n",
       "    </tr>\n",
       "    <tr>\n",
       "      <td>1</td>\n",
       "      <td>480.0</td>\n",
       "    </tr>\n",
       "    <tr>\n",
       "      <td>2</td>\n",
       "      <td>500.0</td>\n",
       "    </tr>\n",
       "    <tr>\n",
       "      <td>3</td>\n",
       "      <td>91.5</td>\n",
       "    </tr>\n",
       "    <tr>\n",
       "      <td>4</td>\n",
       "      <td>750.0</td>\n",
       "    </tr>\n",
       "    <tr>\n",
       "      <td>...</td>\n",
       "      <td>...</td>\n",
       "    </tr>\n",
       "    <tr>\n",
       "      <td>258</td>\n",
       "      <td>700.0</td>\n",
       "    </tr>\n",
       "    <tr>\n",
       "      <td>259</td>\n",
       "      <td>875.0</td>\n",
       "    </tr>\n",
       "    <tr>\n",
       "      <td>260</td>\n",
       "      <td>385.0</td>\n",
       "    </tr>\n",
       "    <tr>\n",
       "      <td>261</td>\n",
       "      <td>960.0</td>\n",
       "    </tr>\n",
       "    <tr>\n",
       "      <td>262</td>\n",
       "      <td>1000.0</td>\n",
       "    </tr>\n",
       "  </tbody>\n",
       "</table>\n",
       "<p>263 rows × 1 columns</p>\n",
       "</div>"
      ],
      "text/plain": [
       "          x\n",
       "0     475.0\n",
       "1     480.0\n",
       "2     500.0\n",
       "3      91.5\n",
       "4     750.0\n",
       "..      ...\n",
       "258   700.0\n",
       "259   875.0\n",
       "260   385.0\n",
       "261   960.0\n",
       "262  1000.0\n",
       "\n",
       "[263 rows x 1 columns]"
      ]
     },
     "execution_count": 63,
     "metadata": {},
     "output_type": "execute_result"
    }
   ],
   "source": [
    "data_y"
   ]
  },
  {
   "cell_type": "code",
   "execution_count": 64,
   "metadata": {},
   "outputs": [],
   "source": [
    "#matrix 계산을 위해 numpy행렬로 변환\n",
    "X = data_x.to_numpy()\n",
    "y = data_y.to_numpy()"
   ]
  },
  {
   "cell_type": "code",
   "execution_count": 65,
   "metadata": {},
   "outputs": [
    {
     "data": {
      "text/plain": [
       "array([[  1, 315,  81, ...,  43,  10,   1],\n",
       "       [  1, 479, 130, ...,  82,  14,   0],\n",
       "       [  1, 496, 141, ...,  11,   3,   1],\n",
       "       ...,\n",
       "       [  1, 475, 126, ..., 113,   7,   0],\n",
       "       [  1, 573, 144, ..., 131,  12,   0],\n",
       "       [  1, 631, 170, ...,   4,   3,   0]], dtype=int64)"
      ]
     },
     "execution_count": 65,
     "metadata": {},
     "output_type": "execute_result"
    }
   ],
   "source": [
    "X"
   ]
  },
  {
   "cell_type": "code",
   "execution_count": 66,
   "metadata": {},
   "outputs": [
    {
     "data": {
      "text/plain": [
       "(263, 20)"
      ]
     },
     "execution_count": 66,
     "metadata": {},
     "output_type": "execute_result"
    }
   ],
   "source": [
    "X.shape # n=263 p=19 "
   ]
  },
  {
   "cell_type": "code",
   "execution_count": 67,
   "metadata": {},
   "outputs": [
    {
     "data": {
      "text/plain": [
       "array([[475. ],\n",
       "       [480. ],\n",
       "       [500. ],\n",
       "       [ 91.5],\n",
       "       [750. ]])"
      ]
     },
     "execution_count": 67,
     "metadata": {},
     "output_type": "execute_result"
    }
   ],
   "source": [
    "y[:5] # 앞의 5개정도만 확인"
   ]
  },
  {
   "cell_type": "code",
   "execution_count": 68,
   "metadata": {},
   "outputs": [
    {
     "data": {
      "text/plain": [
       "(263, 1)"
      ]
     },
     "execution_count": 68,
     "metadata": {},
     "output_type": "execute_result"
    }
   ],
   "source": [
    "y.shape"
   ]
  },
  {
   "cell_type": "markdown",
   "metadata": {},
   "source": [
    "#### b) Find W_hat: so that w=w_hat minimize MSE(w)"
   ]
  },
  {
   "cell_type": "code",
   "execution_count": 70,
   "metadata": {},
   "outputs": [],
   "source": [
    "from numpy.linalg import inv \n",
    "\n",
    "#mse를 최소화하는 w_hat값 구하는 함수 정의 \n",
    "def estimate_w(X, y):\n",
    "    w_hat = (inv((X.T).dot(X))).dot(X.T).dot(y) #normal equation을 사용한다\n",
    "    #(X'*X)*X'*y 이용\n",
    "    return w_hat"
   ]
  },
  {
   "cell_type": "code",
   "execution_count": 71,
   "metadata": {},
   "outputs": [
    {
     "data": {
      "text/plain": [
       "array([[ 1.63103588e+02],\n",
       "       [-1.97987290e+00],\n",
       "       [ 7.50076754e+00],\n",
       "       [ 4.33088290e+00],\n",
       "       [-2.37620998e+00],\n",
       "       [-1.04496196e+00],\n",
       "       [ 6.23128632e+00],\n",
       "       [-3.48905426e+00],\n",
       "       [-1.71340473e-01],\n",
       "       [ 1.33990961e-01],\n",
       "       [-1.72861070e-01],\n",
       "       [ 1.45430494e+00],\n",
       "       [ 8.07708802e-01],\n",
       "       [-8.11570911e-01],\n",
       "       [ 6.25994230e+01],\n",
       "       [-1.16849246e+02],\n",
       "       [ 2.81892513e-01],\n",
       "       [ 3.71069210e-01],\n",
       "       [-3.36076048e+00],\n",
       "       [-2.47623251e+01]])"
      ]
     },
     "execution_count": 71,
     "metadata": {},
     "output_type": "execute_result"
    }
   ],
   "source": [
    "w_hat = estimate_w(X, y)\n",
    "w_hat"
   ]
  },
  {
   "cell_type": "code",
   "execution_count": 72,
   "metadata": {
    "scrolled": false
   },
   "outputs": [
    {
     "data": {
      "text/plain": [
       "array([[ 1.63103588e+02],\n",
       "       [-1.97987290e+00],\n",
       "       [ 7.50076754e+00],\n",
       "       [ 4.33088290e+00],\n",
       "       [-2.37620998e+00],\n",
       "       [-1.04496196e+00],\n",
       "       [ 6.23128632e+00],\n",
       "       [-3.48905426e+00],\n",
       "       [-1.71340473e-01],\n",
       "       [ 1.33990961e-01],\n",
       "       [-1.72861070e-01],\n",
       "       [ 1.45430494e+00],\n",
       "       [ 8.07708802e-01],\n",
       "       [-8.11570911e-01],\n",
       "       [ 6.25994230e+01],\n",
       "       [-1.16849246e+02],\n",
       "       [ 2.81892513e-01],\n",
       "       [ 3.71069210e-01],\n",
       "       [-3.36076048e+00],\n",
       "       [-2.47623251e+01]])"
      ]
     },
     "execution_count": 72,
     "metadata": {},
     "output_type": "execute_result"
    }
   ],
   "source": [
    "w_hat = estimate_w(X, y)\n",
    "w_hat"
   ]
  },
  {
   "cell_type": "code",
   "execution_count": 73,
   "metadata": {},
   "outputs": [
    {
     "data": {
      "text/plain": [
       "(20, 1)"
      ]
     },
     "execution_count": 73,
     "metadata": {},
     "output_type": "execute_result"
    }
   ],
   "source": [
    "w_hat.shape"
   ]
  },
  {
   "cell_type": "markdown",
   "metadata": {},
   "source": [
    "#### c) Using w=w_hat in part b), calculate MSE(w_hat)"
   ]
  },
  {
   "cell_type": "code",
   "execution_count": 74,
   "metadata": {},
   "outputs": [],
   "source": [
    "#MSE 구하는 함수 정의\n",
    "def MSE(X, y, w_hat):\n",
    "    y_pred = X.dot(w_hat) #앞서 구한 w_hat값을 이용하여 y 예측값을 구함\n",
    "    mse = np.sum((y - y_pred)**2) / (X.shape[0]) #MSE식을 이용하여 MSE 구한다\n",
    "    rmse = np.sqrt(mse)\n",
    "    \n",
    "    return mse, rmse"
   ]
  },
  {
   "cell_type": "code",
   "execution_count": 75,
   "metadata": {
    "scrolled": true
   },
   "outputs": [
    {
     "name": "stdout",
     "output_type": "stream",
     "text": [
      "mse: 92017.86901772917\n",
      "rmse: 303.34447253531613\n"
     ]
    }
   ],
   "source": [
    "mse, rmse = MSE(X, y, estimate_w(X, y)) #약 92017\n",
    "print('mse: '+str(mse))\n",
    "print('rmse: ' +str(rmse))"
   ]
  },
  {
   "cell_type": "markdown",
   "metadata": {},
   "source": [
    "#### d) Draw the scatter plot of (yi,yi_hat) and draw the y=x line."
   ]
  },
  {
   "cell_type": "code",
   "execution_count": 76,
   "metadata": {},
   "outputs": [],
   "source": [
    "y_pred = X.dot(w_hat) #y_hat"
   ]
  },
  {
   "cell_type": "code",
   "execution_count": 77,
   "metadata": {},
   "outputs": [],
   "source": [
    "import matplotlib.pyplot as plt"
   ]
  },
  {
   "cell_type": "code",
   "execution_count": 78,
   "metadata": {},
   "outputs": [
    {
     "data": {
      "text/plain": [
       "Text(0, 0.5, 'yi')"
      ]
     },
     "execution_count": 78,
     "metadata": {},
     "output_type": "execute_result"
    },
    {
     "data": {
      "image/png": "[encoded data removed]",
      "text/plain": [
       "<Figure size 432x288 with 1 Axes>"
      ]
     },
     "metadata": {
      "needs_background": "light"
     },
     "output_type": "display_data"
    }
   ],
   "source": [
    "plt.plot(y_pred,y, 'o')\n",
    "plt.plot(y, y, 'r-')\n",
    "plt.title(\"scatter plot of (yi_yi_hat)\")\n",
    "plt.legend([\"(yi_hat,yi)\", \"y=x line\"])\n",
    "plt.xlabel(\"yi_hat\")\n",
    "plt.ylabel(\"yi\")"
   ]
  },
  {
   "cell_type": "markdown",
   "metadata": {},
   "source": [
    "#### e) Calculate the mean and variance of X[:,d] for each d. Note that the mean and variance of X[:,0] is 1 and 0, respectively"
   ]
  },
  {
   "cell_type": "code",
   "execution_count": 79,
   "metadata": {},
   "outputs": [
    {
     "data": {
      "text/plain": [
       "(263, 20)"
      ]
     },
     "execution_count": 79,
     "metadata": {},
     "output_type": "execute_result"
    }
   ],
   "source": [
    "X.shape"
   ]
  },
  {
   "cell_type": "code",
   "execution_count": 80,
   "metadata": {},
   "outputs": [
    {
     "data": {
      "text/plain": [
       "array([1.00000000e+00, 4.03642586e+02, 1.07828897e+02, 1.16197719e+01,\n",
       "       5.47452471e+01, 5.14866920e+01, 4.11140684e+01, 7.31178707e+00,\n",
       "       2.65754373e+03, 7.22186312e+02, 6.92395437e+01, 3.61220532e+02,\n",
       "       3.30418251e+02, 2.60266160e+02, 4.71482890e-01, 5.09505703e-01,\n",
       "       2.90711027e+02, 1.18760456e+02, 8.59315589e+00, 4.63878327e-01])"
      ]
     },
     "execution_count": 80,
     "metadata": {},
     "output_type": "execute_result"
    }
   ],
   "source": [
    "np.mean(X, axis=0) #평균"
   ]
  },
  {
   "cell_type": "code",
   "execution_count": 81,
   "metadata": {},
   "outputs": [
    {
     "data": {
      "text/plain": [
       "array([0.00000000e+00, 2.16169065e+04, 2.02855247e+03, 7.63953505e+01,\n",
       "       6.49802021e+02, 6.67367694e+02, 4.69880525e+02, 2.28913820e+01,\n",
       "       5.20858141e+06, 4.18565201e+05, 6.73075250e+03, 1.09275411e+05,\n",
       "       1.04169057e+05, 6.94603854e+04, 2.49186774e-01, 2.49909642e-01,\n",
       "       7.80654070e+04, 2.09683419e+04, 4.34808657e+01, 2.48695225e-01])"
      ]
     },
     "execution_count": 81,
     "metadata": {},
     "output_type": "execute_result"
    }
   ],
   "source": [
    "np.var(X, axis=0) #분산"
   ]
  },
  {
   "cell_type": "code",
   "execution_count": 82,
   "metadata": {},
   "outputs": [
    {
     "data": {
      "text/plain": [
       "array([0.00000000e+00, 1.47026890e+02, 4.50394546e+01, 8.74044338e+00,\n",
       "       2.54912146e+01, 2.58334607e+01, 2.16767277e+01, 4.78449391e+00,\n",
       "       2.28223167e+03, 6.46966151e+02, 8.20411635e+01, 3.30568316e+02,\n",
       "       3.22752315e+02, 2.63553383e+02, 4.99186112e-01, 4.99909633e-01,\n",
       "       2.79401874e+02, 1.44804495e+02, 6.59400225e+00, 4.98693518e-01])"
      ]
     },
     "execution_count": 82,
     "metadata": {},
     "output_type": "execute_result"
    }
   ],
   "source": [
    "np.std(X, axis=0) #표준편차"
   ]
  },
  {
   "cell_type": "code",
   "execution_count": 83,
   "metadata": {},
   "outputs": [
    {
     "name": "stdout",
     "output_type": "stream",
     "text": [
      "mean and variance of X[:,0]\n",
      "mean: 1.0\n",
      "variance: 0.0\n",
      "\n",
      "\n",
      "mean and variance of X[:,1]\n",
      "mean: 403.6425855513308\n",
      "variance: 21616.906475444204\n",
      "\n",
      "\n",
      "mean and variance of X[:,2]\n",
      "mean: 107.82889733840304\n",
      "variance: 2028.552472928624\n",
      "\n",
      "\n",
      "mean and variance of X[:,3]\n",
      "mean: 11.61977186311787\n",
      "variance: 76.39535051829577\n",
      "\n",
      "\n",
      "mean and variance of X[:,4]\n",
      "mean: 54.745247148288975\n",
      "variance: 649.8020211366363\n",
      "\n",
      "\n",
      "mean and variance of X[:,5]\n",
      "mean: 51.48669201520912\n",
      "variance: 667.3676936199741\n",
      "\n",
      "\n",
      "mean and variance of X[:,6]\n",
      "mean: 41.11406844106464\n",
      "variance: 469.88052451242606\n",
      "\n",
      "\n",
      "mean and variance of X[:,7]\n",
      "mean: 7.311787072243346\n",
      "variance: 22.891381977475458\n",
      "\n",
      "\n",
      "mean and variance of X[:,8]\n",
      "mean: 2657.5437262357414\n",
      "variance: 5208581.411586116\n",
      "\n",
      "\n",
      "mean and variance of X[:,9]\n",
      "mean: 722.1863117870722\n",
      "variance: 418565.201029363\n",
      "\n",
      "\n",
      "mean and variance of X[:,10]\n",
      "mean: 69.23954372623574\n",
      "variance: 6730.752504734781\n",
      "\n",
      "\n",
      "mean and variance of X[:,11]\n",
      "mean: 361.2205323193916\n",
      "variance: 109275.41144154173\n",
      "\n",
      "\n",
      "mean and variance of X[:,12]\n",
      "mean: 330.4182509505703\n",
      "variance: 104169.05700530583\n",
      "\n",
      "\n",
      "mean and variance of X[:,13]\n",
      "mean: 260.26615969581746\n",
      "variance: 69460.38543278059\n",
      "\n",
      "\n",
      "mean and variance of X[:,14]\n",
      "mean: 0.4714828897338403\n",
      "variance: 0.24918677442206766\n",
      "\n",
      "\n",
      "mean and variance of X[:,15]\n",
      "mean: 0.5095057034220533\n",
      "variance: 0.24990964160245202\n",
      "\n",
      "\n",
      "mean and variance of X[:,16]\n",
      "mean: 290.71102661596956\n",
      "variance: 78065.4069886799\n",
      "\n",
      "\n",
      "mean and variance of X[:,17]\n",
      "mean: 118.76045627376426\n",
      "variance: 20968.34185834695\n",
      "\n",
      "\n",
      "mean and variance of X[:,18]\n",
      "mean: 8.593155893536121\n",
      "variance: 43.48086570573523\n",
      "\n",
      "\n",
      "mean and variance of X[:,19]\n",
      "mean: 0.46387832699619774\n",
      "variance: 0.24869522473940633\n",
      "\n",
      "\n"
     ]
    }
   ],
   "source": [
    "#각 d값에 대한 평균과 분산을 하나씩 구해 출력하였다.\n",
    "for i in range(X.shape[1]):\n",
    "    print('mean and variance of X[:,'+str(i)+']')\n",
    "    mean = np.mean(X[:,i])\n",
    "    variance = np.var(X[:,i])\n",
    "    print('mean: '+str(mean))\n",
    "    print('variance: '+str(variance))\n",
    "    print('\\n')"
   ]
  },
  {
   "cell_type": "markdown",
   "metadata": {},
   "source": [
    "#### f) Based on the result in e), make the [n,p+1] matrix X* which is standardized version of X so that the mean and variance of X*[:,d] for each d is 0 and 1, respectively"
   ]
  },
  {
   "cell_type": "code",
   "execution_count": 84,
   "metadata": {
    "scrolled": true
   },
   "outputs": [],
   "source": [
    "X_d = X[:,1:] #X[:,0]을 제외한 matrix에 대해 표준화를 하기위해 정의"
   ]
  },
  {
   "cell_type": "code",
   "execution_count": 85,
   "metadata": {},
   "outputs": [
    {
     "data": {
      "text/plain": [
       "array([[315,  81,   7, ...,  43,  10,   1],\n",
       "       [479, 130,  18, ...,  82,  14,   0],\n",
       "       [496, 141,  20, ...,  11,   3,   1],\n",
       "       ...,\n",
       "       [475, 126,   3, ..., 113,   7,   0],\n",
       "       [573, 144,   9, ..., 131,  12,   0],\n",
       "       [631, 170,   9, ...,   4,   3,   0]], dtype=int64)"
      ]
     },
     "execution_count": 85,
     "metadata": {},
     "output_type": "execute_result"
    }
   ],
   "source": [
    "X_d"
   ]
  },
  {
   "cell_type": "code",
   "execution_count": 86,
   "metadata": {
    "scrolled": true
   },
   "outputs": [],
   "source": [
    "from numpy import *\n",
    "\n",
    "X_std = (X_d - mean(X_d, axis=0)) / std(X_d, axis=0) #표준화 진행"
   ]
  },
  {
   "cell_type": "code",
   "execution_count": 87,
   "metadata": {},
   "outputs": [
    {
     "data": {
      "text/plain": [
       "array([[-0.6029005 , -0.59567545, -0.5285512 , ..., -0.52319133,\n",
       "         0.21335208,  1.07505242],\n",
       "       [ 0.51254171,  0.49225957,  0.72996619, ..., -0.25386267,\n",
       "         0.81996395, -0.9301872 ],\n",
       "       [ 0.62816682,  0.73648988,  0.95878753, ..., -0.74417894,\n",
       "        -0.84821868,  1.07505242],\n",
       "       ...,\n",
       "       [ 0.48533581,  0.40344855, -0.98619389, ..., -0.03978092,\n",
       "        -0.24160682, -0.9301872 ],\n",
       "       [ 1.15188054,  0.80309815, -0.29972986, ...,  0.08452461,\n",
       "         0.51665801, -0.9301872 ],\n",
       "       [ 1.54636621,  1.38036979, -0.29972986, ..., -0.79251998,\n",
       "        -0.84821868, -0.9301872 ]])"
      ]
     },
     "execution_count": 87,
     "metadata": {},
     "output_type": "execute_result"
    }
   ],
   "source": [
    "X_std #표준화한 결과"
   ]
  },
  {
   "cell_type": "code",
   "execution_count": 88,
   "metadata": {},
   "outputs": [
    {
     "name": "stdout",
     "output_type": "stream",
     "text": [
      "mean and variance of X_std[:,1]\n",
      "mean: 1.0131312772244775e-17\n",
      "variance: 1.0\n",
      "\n",
      "\n",
      "mean and variance of X_std[:,2]\n",
      "mean: 5.741077237605372e-17\n",
      "variance: 1.0000000000000002\n",
      "\n",
      "\n",
      "mean and variance of X_std[:,3]\n",
      "mean: 3.377104257414925e-17\n",
      "variance: 1.0\n",
      "\n",
      "\n",
      "mean and variance of X_std[:,4]\n",
      "mean: -5.0656563861223874e-17\n",
      "variance: 1.0\n",
      "\n",
      "\n",
      "mean and variance of X_std[:,5]\n",
      "mean: 1.215757532669373e-16\n",
      "variance: 1.0000000000000002\n",
      "\n",
      "\n",
      "mean and variance of X_std[:,6]\n",
      "mean: 1.6885521287074624e-18\n",
      "variance: 1.0\n",
      "\n",
      "\n",
      "mean and variance of X_std[:,7]\n",
      "mean: -5.40336681186388e-17\n",
      "variance: 1.0\n",
      "\n",
      "\n",
      "mean and variance of X_std[:,8]\n",
      "mean: 6.078787663346865e-17\n",
      "variance: 1.0\n",
      "\n",
      "\n",
      "mean and variance of X_std[:,9]\n",
      "mean: 6.75420851482985e-17\n",
      "variance: 1.0\n",
      "\n",
      "\n",
      "mean and variance of X_std[:,10]\n",
      "mean: 5.40336681186388e-17\n",
      "variance: 1.0\n",
      "\n",
      "\n",
      "mean and variance of X_std[:,11]\n",
      "mean: 3.377104257414925e-17\n",
      "variance: 1.0\n",
      "\n",
      "\n",
      "mean and variance of X_std[:,12]\n",
      "mean: 4.05252510889791e-17\n",
      "variance: 1.0\n",
      "\n",
      "\n",
      "mean and variance of X_std[:,13]\n",
      "mean: 1.080673362372776e-16\n",
      "variance: 1.0\n",
      "\n",
      "\n",
      "mean and variance of X_std[:,14]\n",
      "mean: -1.35084170296597e-17\n",
      "variance: 1.0\n",
      "\n",
      "\n",
      "mean and variance of X_std[:,15]\n",
      "mean: -1.080673362372776e-16\n",
      "variance: 1.0\n",
      "\n",
      "\n",
      "mean and variance of X_std[:,16]\n",
      "mean: 7.429629366312834e-17\n",
      "variance: 1.0000000000000002\n",
      "\n",
      "\n",
      "mean and variance of X_std[:,17]\n",
      "mean: 0.0\n",
      "variance: 0.9999999999999998\n",
      "\n",
      "\n",
      "mean and variance of X_std[:,18]\n",
      "mean: 1.0469023197986267e-16\n",
      "variance: 0.9999999999999998\n",
      "\n",
      "\n",
      "mean and variance of X_std[:,19]\n",
      "mean: 1.35084170296597e-17\n",
      "variance: 1.0000000000000004\n",
      "\n",
      "\n"
     ]
    }
   ],
   "source": [
    "#표준화한 X값을 각 d값에 대한 평균과 분산을 하나씩 구해 출력해보니\n",
    "#모두 평균이 1, 표준편차가 0이 되었음을 확인할 수 있다. \n",
    "for i in range(X_std.shape[1]):\n",
    "    print('mean and variance of X_std[:,'+str(i+1)+']')\n",
    "    mean = np.mean((X_std[:,i]))\n",
    "    variance = np.var((X_std[:,i]))\n",
    "    print('mean: '+str(mean))\n",
    "    print('variance: '+str(variance))\n",
    "    print('\\n')"
   ]
  },
  {
   "cell_type": "code",
   "execution_count": 89,
   "metadata": {},
   "outputs": [
    {
     "data": {
      "text/plain": [
       "array([ 1.01313128e-17,  5.74107724e-17,  3.37710426e-17, -5.06565639e-17,\n",
       "        1.21575753e-16,  1.68855213e-18, -5.40336681e-17,  6.07878766e-17,\n",
       "        6.75420851e-17,  5.40336681e-17,  3.37710426e-17,  4.05252511e-17,\n",
       "        1.08067336e-16, -1.35084170e-17, -1.08067336e-16,  7.42962937e-17,\n",
       "        0.00000000e+00,  1.04690232e-16,  1.35084170e-17])"
      ]
     },
     "execution_count": 89,
     "metadata": {},
     "output_type": "execute_result"
    }
   ],
   "source": [
    "np.mean(X_std, axis=0) #표준화 결과 평균이 모두 0이 되었음을 확인할 수 있다."
   ]
  },
  {
   "cell_type": "code",
   "execution_count": 90,
   "metadata": {},
   "outputs": [
    {
     "data": {
      "text/plain": [
       "array([1., 1., 1., 1., 1., 1., 1., 1., 1., 1., 1., 1., 1., 1., 1., 1., 1.,\n",
       "       1., 1.])"
      ]
     },
     "execution_count": 90,
     "metadata": {},
     "output_type": "execute_result"
    }
   ],
   "source": [
    "np.var(X_std, axis=0) #표준화 결과 분산이 모두 1이 되었음을 확인할 수 있다."
   ]
  },
  {
   "cell_type": "code",
   "execution_count": 91,
   "metadata": {},
   "outputs": [
    {
     "data": {
      "text/plain": [
       "array([1., 1., 1., 1., 1., 1., 1., 1., 1., 1., 1., 1., 1., 1., 1., 1., 1.,\n",
       "       1., 1.])"
      ]
     },
     "execution_count": 91,
     "metadata": {},
     "output_type": "execute_result"
    }
   ],
   "source": [
    "np.std(X_std, axis=0) #표준편차 확인"
   ]
  },
  {
   "cell_type": "code",
   "execution_count": 92,
   "metadata": {},
   "outputs": [
    {
     "data": {
      "text/plain": [
       "(263, 19)"
      ]
     },
     "execution_count": 92,
     "metadata": {},
     "output_type": "execute_result"
    }
   ],
   "source": [
    "X_std.shape"
   ]
  },
  {
   "cell_type": "code",
   "execution_count": 93,
   "metadata": {},
   "outputs": [
    {
     "data": {
      "text/plain": [
       "array([[ 1.        , -0.6029005 , -0.59567545, ..., -0.52319133,\n",
       "         0.21335208,  1.07505242],\n",
       "       [ 1.        ,  0.51254171,  0.49225957, ..., -0.25386267,\n",
       "         0.81996395, -0.9301872 ],\n",
       "       [ 1.        ,  0.62816682,  0.73648988, ..., -0.74417894,\n",
       "        -0.84821868,  1.07505242],\n",
       "       ...,\n",
       "       [ 1.        ,  0.48533581,  0.40344855, ..., -0.03978092,\n",
       "        -0.24160682, -0.9301872 ],\n",
       "       [ 1.        ,  1.15188054,  0.80309815, ...,  0.08452461,\n",
       "         0.51665801, -0.9301872 ],\n",
       "       [ 1.        ,  1.54636621,  1.38036979, ..., -0.79251998,\n",
       "        -0.84821868, -0.9301872 ]])"
      ]
     },
     "execution_count": 93,
     "metadata": {},
     "output_type": "execute_result"
    }
   ],
   "source": [
    " # 표준화를 진행하지 않았던 X[:,0]을 다시 합쳐 X star을 완성한다\n",
    "X_star = np.concatenate((X[:,:1], X_std),axis=1)\n",
    "X_star"
   ]
  },
  {
   "cell_type": "code",
   "execution_count": 94,
   "metadata": {},
   "outputs": [
    {
     "data": {
      "text/plain": [
       "(263, 20)"
      ]
     },
     "execution_count": 94,
     "metadata": {},
     "output_type": "execute_result"
    }
   ],
   "source": [
    "X_star.shape #[n,p+1] matrix의 Xstar이 만들어졌다"
   ]
  },
  {
   "cell_type": "markdown",
   "metadata": {},
   "source": [
    "#### g) Repeat b) and c) using X* and y."
   ]
  },
  {
   "cell_type": "code",
   "execution_count": 95,
   "metadata": {},
   "outputs": [],
   "source": [
    "#위의 b,c과정을 그대로 진행한다. 위에서 정의한 함수를 그대로 사용하였다"
   ]
  },
  {
   "cell_type": "code",
   "execution_count": 96,
   "metadata": {},
   "outputs": [
    {
     "data": {
      "text/plain": [
       "array([[ 535.92588213],\n",
       "       [-291.0945557 ],\n",
       "       [ 337.83047948],\n",
       "       [  37.85383676],\n",
       "       [ -60.57247861],\n",
       "       [ -26.99498379],\n",
       "       [ 135.07389695],\n",
       "       [ -16.69335888],\n",
       "       [-391.03865466],\n",
       "       [  86.68761664],\n",
       "       [ -14.18172332],\n",
       "       [ 480.74713477],\n",
       "       [ 260.68988581],\n",
       "       [-213.89225864],\n",
       "       [  31.2487626 ],\n",
       "       [ -58.41406355],\n",
       "       [  78.76129639],\n",
       "       [  53.73248973],\n",
       "       [ -22.16086217],\n",
       "       [ -12.34881102]])"
      ]
     },
     "execution_count": 96,
     "metadata": {},
     "output_type": "execute_result"
    }
   ],
   "source": [
    "# Find W_hat: so that w=w_hat minimize MSE(w)\n",
    "w_hat = estimate_w(X_star, y)\n",
    "w_hat"
   ]
  },
  {
   "cell_type": "code",
   "execution_count": 97,
   "metadata": {
    "scrolled": true
   },
   "outputs": [
    {
     "data": {
      "text/plain": [
       "(20, 1)"
      ]
     },
     "execution_count": 97,
     "metadata": {},
     "output_type": "execute_result"
    }
   ],
   "source": [
    "w_hat.shape"
   ]
  },
  {
   "cell_type": "code",
   "execution_count": 98,
   "metadata": {},
   "outputs": [
    {
     "name": "stdout",
     "output_type": "stream",
     "text": [
      "mse: 92017.86901772917\n",
      "rmse: 303.34447253531613\n"
     ]
    }
   ],
   "source": [
    "#Using w=w_hat, calculate MSE(w_hat)\n",
    "mse, rmse = MSE(X_star, y, estimate_w(X_star, y))\n",
    "print('mse: '+str(mse))\n",
    "print('rmse: ' +str(rmse))\n",
    "#표준화를 진행하였음에도 MSE값은 동일하다"
   ]
  }
 ],
 "metadata": {
  "kernelspec": {
   "display_name": "Python 3",
   "language": "python",
   "name": "python3"
  },
  "language_info": {
   "codemirror_mode": {
    "name": "ipython",
    "version": 3
   },
   "file_extension": ".py",
   "mimetype": "text/x-python",
   "name": "python",
   "nbconvert_exporter": "python",
   "pygments_lexer": "ipython3",
   "version": "3.7.4"
  },
  "toc": {
   "base_numbering": 1,
   "nav_menu": {},
   "number_sections": true,
   "sideBar": true,
   "skip_h1_title": false,
   "title_cell": "Table of Contents",
   "title_sidebar": "Contents",
   "toc_cell": false,
   "toc_position": {},
   "toc_section_display": true,
   "toc_window_display": false
  }
 },
 "nbformat": 4,
 "nbformat_minor": 2
}

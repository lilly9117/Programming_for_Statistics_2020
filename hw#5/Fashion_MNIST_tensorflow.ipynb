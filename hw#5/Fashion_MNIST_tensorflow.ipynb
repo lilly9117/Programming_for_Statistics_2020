{
 "cells": [
  {
   "cell_type": "markdown",
   "metadata": {},
   "source": [
    ""
   ]
  },
  {
   "cell_type": "code",
   "execution_count": 1,
   "metadata": {},
   "outputs": [],
   "source": [
    "#필요한 라이브러리 불러오기 \n",
    "import tensorflow as tf \n",
    "import numpy as np"
   ]
  },
  {
   "cell_type": "code",
   "execution_count": 2,
   "metadata": {},
   "outputs": [],
   "source": [
    "mnist = tf.keras.datasets.fashion_mnist #fasion mnist 데이터 불러오기"
   ]
  },
  {
   "cell_type": "code",
   "execution_count": 3,
   "metadata": {},
   "outputs": [],
   "source": [
    "(x_train_full, y_train_full), (x_test, y_test) = mnist.load_data() #mnist 데이터 불러오기 - train, test data 지정\n",
    "x_train_full, x_test = x_train_full / 255.0, x_test / 255.0 #image pixel /255로 normalization "
   ]
  },
  {
   "cell_type": "code",
   "execution_count": 4,
   "metadata": {
    "scrolled": true
   },
   "outputs": [
    {
     "name": "stdout",
     "output_type": "stream",
     "text": [
      "(60000, 28, 28) (60000,)\n"
     ]
    }
   ],
   "source": [
    "print(x_train_full.shape, y_train_full.shape) # x data, y 데이터 shape 확인"
   ]
  },
  {
   "cell_type": "code",
   "execution_count": 6,
   "metadata": {},
   "outputs": [
    {
     "data": {
      "text/plain": [
       "<matplotlib.image.AxesImage at 0x1c737aac948>"
      ]
     },
     "execution_count": 6,
     "metadata": {},
     "output_type": "execute_result"
    },
    {
     "data": {
      "image/png": "[encoded data removed]",
      "text/plain": [
       "<Figure size 432x288 with 1 Axes>"
      ]
     },
     "metadata": {
      "needs_background": "light"
     },
     "output_type": "display_data"
    }
   ],
   "source": [
    "import matplotlib.pyplot as plt \n",
    "plt.imshow(x_train_full[0,]) # mnist 데이터 이미지 확인 "
   ]
  },
  {
   "cell_type": "code",
   "execution_count": 7,
   "metadata": {},
   "outputs": [],
   "source": [
    "class_names = [\"T-shirt/top\", \"Trouser\", \"Pullover\", \"Dress\", \"Coat\", \n",
    "               \" Sandal\", \"Shirt\", \"Sneaker\", \"Bag\", \"Ankle boot\"]  #총 10개의 class로 이루어져 있음"
   ]
  },
  {
   "cell_type": "code",
   "execution_count": 8,
   "metadata": {},
   "outputs": [
    {
     "data": {
      "text/plain": [
       "'Ankle boot'"
      ]
     },
     "execution_count": 8,
     "metadata": {},
     "output_type": "execute_result"
    }
   ],
   "source": [
    "class_names[y_train_full[0]] #각 이미지에 class 지정되어 있음"
   ]
  },
  {
   "cell_type": "code",
   "execution_count": 9,
   "metadata": {},
   "outputs": [],
   "source": [
    "y_train_full_onehot = np.zeros((y_train_full.size, y_train_full.max()+ 1)) \n",
    "#y_train 값을 one-hot vector 형태로 만들어 주기 위함.\n",
    "#먼저 np.zeros 함수를 사용하여 0으로 가득찬 vector를 만들어 주고\n",
    "y_train_full_onehot[np.arange(y_train_full.size),y_train_full] = 1\n",
    "#해당 클래스 부분에 1을 채워주어 y_train vector를 만들어 준다"
   ]
  },
  {
   "cell_type": "code",
   "execution_count": 10,
   "metadata": {},
   "outputs": [
    {
     "data": {
      "text/plain": [
       "array([[0., 0., 0., ..., 0., 0., 1.],\n",
       "       [1., 0., 0., ..., 0., 0., 0.],\n",
       "       [1., 0., 0., ..., 0., 0., 0.],\n",
       "       ...,\n",
       "       [0., 0., 0., ..., 0., 0., 0.],\n",
       "       [1., 0., 0., ..., 0., 0., 0.],\n",
       "       [0., 0., 0., ..., 0., 0., 0.]])"
      ]
     },
     "execution_count": 10,
     "metadata": {},
     "output_type": "execute_result"
    }
   ],
   "source": [
    "y_train_full_onehot"
   ]
  },
  {
   "cell_type": "code",
   "execution_count": 11,
   "metadata": {},
   "outputs": [],
   "source": [
    "x_train, x_valid = x_train_full[0:50000, :, :], x_train_full[50000:, :, :] #xtrainset을 trainset과 validation set으로 나눠준다"
   ]
  },
  {
   "cell_type": "code",
   "execution_count": 12,
   "metadata": {},
   "outputs": [],
   "source": [
    "y_train, y_valid = y_train_full_onehot[0:50000, :], y_train_full_onehot[50000:, :] #y trainset도 동일하게 train set과 validation set으로 나눠준다"
   ]
  },
  {
   "cell_type": "code",
   "execution_count": 13,
   "metadata": {},
   "outputs": [
    {
     "name": "stdout",
     "output_type": "stream",
     "text": [
      "(50000, 28, 28) (10000, 28, 28) (50000, 10) (10000, 10)\n"
     ]
    }
   ],
   "source": [
    "print(x_train.shape, x_valid.shape, y_train.shape, y_valid.shape) #각각의 train set, validation set의 shape를 보면 다음과 같다"
   ]
  },
  {
   "cell_type": "markdown",
   "metadata": {},
   "source": [
    "### Using \"tf.keras.models.Sequential\", construct \"Neural Network\" with\n",
    "[0] layer is input layer\n",
    "[1] layer has 300 nodes\n",
    "[2] layer has 200 nodes\n",
    "[3] layer is output layer"
   ]
  },
  {
   "cell_type": "code",
   "execution_count": 14,
   "metadata": {
    "scrolled": true
   },
   "outputs": [
    {
     "data": {
      "text/plain": [
       "(50000, 28, 28)"
      ]
     },
     "execution_count": 14,
     "metadata": {},
     "output_type": "execute_result"
    }
   ],
   "source": [
    "x_train.shape #input shape 28,28 - 모델들어갈 때 input size설정"
   ]
  },
  {
   "cell_type": "code",
   "execution_count": 15,
   "metadata": {},
   "outputs": [
    {
     "data": {
      "text/plain": [
       "(60000, 10)"
      ]
     },
     "execution_count": 15,
     "metadata": {},
     "output_type": "execute_result"
    }
   ],
   "source": [
    "y_train_full_onehot.shape # class 10개 최종 모델 마지막부분 10개의 노드로 출력"
   ]
  },
  {
   "cell_type": "code",
   "execution_count": 16,
   "metadata": {},
   "outputs": [],
   "source": [
    "import tensorflow as tf\n",
    "num_classes = 10 #주어진 데이터의 클래스는 총 10개로 구성되어 있다.\n",
    "\n",
    "model = tf.keras.models.Sequential([\n",
    "    tf.keras.layers.Flatten(input_shape=(28, 28)),\n",
    "    tf.keras.layers.Dense(300, activation='relu'),\n",
    "    tf.keras.layers.Dense(200, activation='relu'),\n",
    "    tf.keras.layers.Dense(10, activation=\"softmax\")\n",
    "])\n",
    "#tensorflow 안에 있는 keras라는 라이브러리 안에 있는 models라는 모듈 안에 있는 sequential 함수를 사용한다\n",
    "#이를 사용하여 간단한 신경망 모델을 만드느넫, 순서대로 연결된 층을 일렬로 쌓아서 구성한다\n",
    "\n",
    "#flatten: 2차원 배열 (28x28 pixel)의 이미지를 1차원 배열로 변환 - 이미지에 있는 픽셀의 행을 펼쳐서 일렬로 늘림(이 층에서는 학습되는 가중치가 없고 데이터 반환만 이루어짐)\n",
    "#Dense : fully-connected 층,\n",
    "#첫번째 Dense 층 300개의 노드 가짐\n",
    "#두번째 층 200개의 노드 가짐\n",
    "#세번 째 층 (마지막 층) - 10개의 노드의 softmax 층 가짐 -10개의 확률을 반환하고 반환된 값의 전체 합은 1\n",
    "#-> 각 노드는 주어진 이미지가 10개의 클래스 중 하나에 속할 확률들을 출력함"
   ]
  },
  {
   "cell_type": "markdown",
   "metadata": {},
   "source": [
    "###  Count how may parameters are needed with the model in 1. Check your calculation with \"model.summary()\" in python. "
   ]
  },
  {
   "cell_type": "code",
   "execution_count": 17,
   "metadata": {
    "scrolled": true
   },
   "outputs": [
    {
     "name": "stdout",
     "output_type": "stream",
     "text": [
      "235500\n",
      "60200\n",
      "2010\n"
     ]
    }
   ],
   "source": [
    "# 각 노드에서 필요한 parameter를 계산하는 식을 이용하면 다음과 같다.\n",
    "# parameter number = output channel 수 * (input channel 수 + 1)\n",
    "print(300*(784+1)) #235500 개\n",
    "print(200*(300+1)) # 60200개\n",
    "print(10*(200+1)) # 2010개\n",
    "#이 모델은 총 297710개의 학습 parameter가 요구된다"
   ]
  },
  {
   "cell_type": "code",
   "execution_count": 18,
   "metadata": {},
   "outputs": [
    {
     "name": "stdout",
     "output_type": "stream",
     "text": [
      "Model: \"sequential\"\n",
      "_________________________________________________________________\n",
      "Layer (type)                 Output Shape              Param #   \n",
      "=================================================================\n",
      "flatten (Flatten)            (None, 784)               0         \n",
      "_________________________________________________________________\n",
      "dense (Dense)                (None, 300)               235500    \n",
      "_________________________________________________________________\n",
      "dense_1 (Dense)              (None, 200)               60200     \n",
      "_________________________________________________________________\n",
      "dense_2 (Dense)              (None, 10)                2010      \n",
      "=================================================================\n",
      "Total params: 297,710\n",
      "Trainable params: 297,710\n",
      "Non-trainable params: 0\n",
      "_________________________________________________________________\n"
     ]
    }
   ],
   "source": [
    "model.summary() \n",
    "#summmary함수를 통해 parameter 수를 확인해본 결과,\n",
    "#이 모델은 총 297710개의 학습 parameter가 요구된다\n",
    "#위에서 직접 계산한 parameter수와 동일하다"
   ]
  },
  {
   "cell_type": "markdown",
   "metadata": {},
   "source": [
    "###  Train your model, and draw learning curve to see whether the learning is proper or not. "
   ]
  },
  {
   "cell_type": "code",
   "execution_count": 19,
   "metadata": {},
   "outputs": [],
   "source": [
    "model.compile(loss=\"categorical_crossentropy\", optimizer=\"sgd\", metrics=[\"accuracy\"])\n",
    "#모델을 훈련하기 전 필요한 몇가지 설정들이 compile단계를 통해 추가된다\n",
    "#loss : 손실함수 loss function- 훈련 하는 동안 모델의 오차 측정 위한 함수 결정 (모델의 학습이 올바른 방향으로 향하도록 이 함수를 최소화 함)\n",
    "#optimizer : 데이터와 손실 함수를 바탕으로 모델의 업데이트 방법을 결정 - sgd(stochastic gradient descent)선택\n",
    "#metrics: training과 test단계에서 지표 선택 - 올바르게 분류된 이미지의 비율인 accuracy 선택"
   ]
  },
  {
   "cell_type": "code",
   "execution_count": 20,
   "metadata": {},
   "outputs": [
    {
     "name": "stdout",
     "output_type": "stream",
     "text": [
      "Train on 50000 samples, validate on 10000 samples\n",
      "Epoch 1/20\n",
      "50000/50000 [==============================] - 5s 99us/sample - loss: 1.1165 - accuracy: 0.6672 - val_loss: 0.7318 - val_accuracy: 0.7611\n",
      "Epoch 2/20\n",
      "50000/50000 [==============================] - 4s 77us/sample - loss: 0.6587 - accuracy: 0.7858 - val_loss: 0.6046 - val_accuracy: 0.7992\n",
      "Epoch 3/20\n",
      "50000/50000 [==============================] - 4s 74us/sample - loss: 0.5705 - accuracy: 0.8113 - val_loss: 0.5611 - val_accuracy: 0.8059\n",
      "Epoch 4/20\n",
      "50000/50000 [==============================] - 4s 78us/sample - loss: 0.5251 - accuracy: 0.8239 - val_loss: 0.5245 - val_accuracy: 0.8197\n",
      "Epoch 5/20\n",
      "50000/50000 [==============================] - 4s 77us/sample - loss: 0.4956 - accuracy: 0.8314 - val_loss: 0.4954 - val_accuracy: 0.8245\n",
      "Epoch 6/20\n",
      "50000/50000 [==============================] - 4s 74us/sample - loss: 0.4759 - accuracy: 0.8372 - val_loss: 0.4772 - val_accuracy: 0.8337\n",
      "Epoch 7/20\n",
      "50000/50000 [==============================] - 4s 75us/sample - loss: 0.4615 - accuracy: 0.8417 - val_loss: 0.4768 - val_accuracy: 0.8303\n",
      "Epoch 8/20\n",
      "50000/50000 [==============================] - 4s 77us/sample - loss: 0.4492 - accuracy: 0.8461 - val_loss: 0.4550 - val_accuracy: 0.8374\n",
      "Epoch 9/20\n",
      "50000/50000 [==============================] - 4s 74us/sample - loss: 0.4380 - accuracy: 0.8494 - val_loss: 0.4441 - val_accuracy: 0.8452\n",
      "Epoch 10/20\n",
      "50000/50000 [==============================] - 4s 73us/sample - loss: 0.4296 - accuracy: 0.8525 - val_loss: 0.4363 - val_accuracy: 0.8468\n",
      "Epoch 11/20\n",
      "50000/50000 [==============================] - 4s 76us/sample - loss: 0.4218 - accuracy: 0.8542 - val_loss: 0.4463 - val_accuracy: 0.8410\n",
      "Epoch 12/20\n",
      "50000/50000 [==============================] - 4s 82us/sample - loss: 0.4146 - accuracy: 0.8559 - val_loss: 0.4294 - val_accuracy: 0.8504\n",
      "Epoch 13/20\n",
      "50000/50000 [==============================] - 4s 84us/sample - loss: 0.4092 - accuracy: 0.8580 - val_loss: 0.4264 - val_accuracy: 0.8527\n",
      "Epoch 14/20\n",
      "50000/50000 [==============================] - 4s 76us/sample - loss: 0.4021 - accuracy: 0.8604 - val_loss: 0.4168 - val_accuracy: 0.8555\n",
      "Epoch 15/20\n",
      "50000/50000 [==============================] - 4s 75us/sample - loss: 0.3966 - accuracy: 0.8626 - val_loss: 0.4193 - val_accuracy: 0.8542\n",
      "Epoch 16/20\n",
      "50000/50000 [==============================] - 4s 77us/sample - loss: 0.3916 - accuracy: 0.8641 - val_loss: 0.4057 - val_accuracy: 0.8580\n",
      "Epoch 17/20\n",
      "50000/50000 [==============================] - 4s 79us/sample - loss: 0.3861 - accuracy: 0.8649 - val_loss: 0.4036 - val_accuracy: 0.8589\n",
      "Epoch 18/20\n",
      "50000/50000 [==============================] - 4s 77us/sample - loss: 0.3843 - accuracy: 0.8666 - val_loss: 0.4004 - val_accuracy: 0.8611\n",
      "Epoch 19/20\n",
      "50000/50000 [==============================] - 4s 74us/sample - loss: 0.3777 - accuracy: 0.8691 - val_loss: 0.3946 - val_accuracy: 0.8631\n",
      "Epoch 20/20\n",
      "50000/50000 [==============================] - 4s 75us/sample - loss: 0.3737 - accuracy: 0.8709 - val_loss: 0.4116 - val_accuracy: 0.8529\n"
     ]
    }
   ],
   "source": [
    "history =  model.fit(x_train, y_train, epochs=20, validation_data=(x_valid, y_valid), batch_size=128)\n",
    "#신경망 모델 훈련- train data 학습, epoch(신경망에서 전체 데이터 셋에 대해 한 번 학습을 완료한 상태)은 20으로 설정 \n",
    "#batch size(한번의 batch 마다 주는 데이터 sample의 size) 는 128로 설정 "
   ]
  },
  {
   "cell_type": "code",
   "execution_count": 21,
   "metadata": {},
   "outputs": [],
   "source": [
    "result = history.history"
   ]
  },
  {
   "cell_type": "code",
   "execution_count": 22,
   "metadata": {},
   "outputs": [
    {
     "data": {
      "text/plain": [
       "dict_keys(['loss', 'accuracy', 'val_loss', 'val_accuracy'])"
      ]
     },
     "execution_count": 22,
     "metadata": {},
     "output_type": "execute_result"
    }
   ],
   "source": [
    "result.keys() #학습하는 동안의 loss, accuracy, val_loss, val_accuracy 저장"
   ]
  },
  {
   "cell_type": "code",
   "execution_count": 23,
   "metadata": {},
   "outputs": [
    {
     "data": {
      "image/png": "[encoded data removed]",
      "text/plain": [
       "<Figure size 432x288 with 1 Axes>"
      ]
     },
     "metadata": {
      "needs_background": "light"
     },
     "output_type": "display_data"
    }
   ],
   "source": [
    "plt.plot(result['loss'], label=\"train\")\n",
    "plt.plot(result['val_loss'], label = \"valid\")\n",
    "plt.title(\"Model Loss\")\n",
    "plt.xlabel('Epochs')\n",
    "plt.ylabel('Loss')\n",
    "plt.legend(fontsize='x-large')\n",
    "plt.show() #잘 학습되었는지 loss를 figure를 통해 확인"
   ]
  },
  {
   "cell_type": "code",
   "execution_count": 24,
   "metadata": {
    "scrolled": true
   },
   "outputs": [
    {
     "data": {
      "image/png": "[encoded data removed]",
      "text/plain": [
       "<Figure size 432x288 with 1 Axes>"
      ]
     },
     "metadata": {
      "needs_background": "light"
     },
     "output_type": "display_data"
    }
   ],
   "source": [
    "plt.plot(result[\"accuracy\"], label=\"train\")\n",
    "plt.plot(result[\"val_accuracy\"], label=\"valid\")\n",
    "plt.title(\"Model Accuracy\")\n",
    "plt.xlabel('Epochs')\n",
    "plt.ylabel('Accuracy')\n",
    "plt.legend(fontsize='x-large')\n",
    "plt.show() #잘 학습되었는지 accuracy를 figure를 통해 확인"
   ]
  },
  {
   "cell_type": "markdown",
   "metadata": {},
   "source": [
    "###  Using the model in 3, predict the test set. What is the accuracy of your model in the test data ?"
   ]
  },
  {
   "cell_type": "code",
   "execution_count": 25,
   "metadata": {},
   "outputs": [],
   "source": [
    "#직접 predict하여 비교하여 accuracy를 구하였다"
   ]
  },
  {
   "cell_type": "code",
   "execution_count": 26,
   "metadata": {},
   "outputs": [
    {
     "data": {
      "text/plain": [
       "array([2.6982130e-05, 4.4829644e-06, 2.1221482e-05, 8.4265075e-06,\n",
       "       4.4014455e-06, 8.5227758e-02, 5.1864543e-05, 1.5809521e-01,\n",
       "       6.7649470e-03, 7.4979478e-01], dtype=float32)"
      ]
     },
     "execution_count": 26,
     "metadata": {},
     "output_type": "execute_result"
    }
   ],
   "source": [
    "y_pred = model.predict(x_test) #앞서 훈련한 모델을 사용하여 test set에 있는 각 이미지의 label 예측\n",
    "y_pred[0,:] # 예측결과 , 10개의 숫자 배열로 나타남 "
   ]
  },
  {
   "cell_type": "code",
   "execution_count": 27,
   "metadata": {},
   "outputs": [
    {
     "name": "stdout",
     "output_type": "stream",
     "text": [
      "(10000, 10)\n"
     ]
    }
   ],
   "source": [
    "print(y_pred.shape)"
   ]
  },
  {
   "cell_type": "code",
   "execution_count": 28,
   "metadata": {},
   "outputs": [],
   "source": [
    "y_pred_class = np.argmax(y_pred, axis=1) #다차원 배열에서 차원에 따라 가장 큰 값의 index들을 반환해주는 np.argmax함수를 이용하여 최종적으로 label를 예측한다"
   ]
  },
  {
   "cell_type": "code",
   "execution_count": 29,
   "metadata": {},
   "outputs": [
    {
     "data": {
      "text/plain": [
       "array([9, 2, 1, 1, 6], dtype=int64)"
      ]
     },
     "execution_count": 29,
     "metadata": {},
     "output_type": "execute_result"
    }
   ],
   "source": [
    "y_pred_class[:5] # 예측된 class들을 살펴보면 다음과 같이  하나의 클래스로 결정된다. "
   ]
  },
  {
   "cell_type": "code",
   "execution_count": 30,
   "metadata": {},
   "outputs": [
    {
     "data": {
      "text/plain": [
       "0.8498"
      ]
     },
     "execution_count": 30,
     "metadata": {},
     "output_type": "execute_result"
    }
   ],
   "source": [
    "np.mean(y_test == y_pred_class) #올바르게 분류된 이미지의 비율인 accuracy를 계산해보면 0.8498이 나온다. "
   ]
  },
  {
   "cell_type": "markdown",
   "metadata": {},
   "source": [
    "###  Draw the first 5 figures of wrong predictions. What are predicted classifications by your model and the actual classifications for these figures?"
   ]
  },
  {
   "cell_type": "code",
   "execution_count": 31,
   "metadata": {},
   "outputs": [],
   "source": [
    "predict_result = (y_test == y_pred_class) #잘못 예측된 이미지를 찾기 위해 먼저 true, false 형태로 잘 예측되었는지 뽑아낸다"
   ]
  },
  {
   "cell_type": "code",
   "execution_count": 32,
   "metadata": {},
   "outputs": [
    {
     "data": {
      "text/plain": [
       "array([ True,  True,  True,  True,  True,  True,  True,  True,  True,\n",
       "        True])"
      ]
     },
     "execution_count": 32,
     "metadata": {},
     "output_type": "execute_result"
    }
   ],
   "source": [
    "predict_result[0:10]"
   ]
  },
  {
   "cell_type": "code",
   "execution_count": 33,
   "metadata": {},
   "outputs": [],
   "source": [
    "nrange = np.arange(0, 10000) #총 10000개의 test 이미지 중 잘못된 걸 뽑아내기 위해 먼저 범위 지정"
   ]
  },
  {
   "cell_type": "code",
   "execution_count": 34,
   "metadata": {},
   "outputs": [],
   "source": [
    "wrong_predict = nrange[predict_result==False] # class 분류 결과 false인것만 뽑아온다"
   ]
  },
  {
   "cell_type": "code",
   "execution_count": 35,
   "metadata": {},
   "outputs": [
    {
     "name": "stdout",
     "output_type": "stream",
     "text": [
      "[5 2 7 7 2] [7 4 5 9 4]\n"
     ]
    }
   ],
   "source": [
    "print(y_pred_class[wrong_predict[0:5],], y_test[wrong_predict[0:5]])\n",
    "#앞서 잘못 예측된 이미지는 각각 5 2 7 7 2 class로 예측되었으나\n",
    "#실제로는 7 4 5 9 4의 class를 가지고 있었어야 했다."
   ]
  },
  {
   "cell_type": "code",
   "execution_count": 36,
   "metadata": {
    "scrolled": false
   },
   "outputs": [
    {
     "name": "stdout",
     "output_type": "stream",
     "text": [
      "original label of  12 th index:  Sneaker\n",
      "predicted label:  12 th index:   Sandal\n",
      "-----------------------------------\n",
      "original label of  17 th index:  Coat\n",
      "predicted label:  17 th index:  Pullover\n",
      "-----------------------------------\n",
      "original label of  21 th index:   Sandal\n",
      "predicted label:  21 th index:  Sneaker\n",
      "-----------------------------------\n",
      "original label of  23 th index:  Ankle boot\n",
      "predicted label:  23 th index:  Sneaker\n",
      "-----------------------------------\n",
      "original label of  25 th index:  Coat\n",
      "predicted label:  25 th index:  Pullover\n",
      "-----------------------------------\n"
     ]
    }
   ],
   "source": [
    "#다섯개의 잘못분류된 이미지의 본래 라벨, 예측 라벨을 클래스 이름으로 뽑아보면 다음과 같다\n",
    "for idx in wrong_predict[:5]:\n",
    "    print('original label of ',idx, 'th index: ', class_names[y_test[idx]])\n",
    "    print('predicted label: ',idx, 'th index: ',  class_names[y_pred_class[idx]])\n",
    "    print('-----------------------------------')"
   ]
  },
  {
   "cell_type": "code",
   "execution_count": 37,
   "metadata": {
    "scrolled": false
   },
   "outputs": [
    {
     "data": {
      "text/plain": [
       "<matplotlib.image.AxesImage at 0x1c738543708>"
      ]
     },
     "execution_count": 37,
     "metadata": {},
     "output_type": "execute_result"
    },
    {
     "data": {
      "image/png": "[encoded data removed]",
      "text/plain": [
       "<Figure size 1440x720 with 5 Axes>"
      ]
     },
     "metadata": {
      "needs_background": "light"
     },
     "output_type": "display_data"
    }
   ],
   "source": [
    "#잘못 예측된 이미지 5개를 뽑아보면 다음과 같다\n",
    "#5개의 이미지를 한번에 확인하기 위해 subplot함수를 사용하였다\n",
    "#여기서 나오는 이미지는 original label과 다르게 잘못 예측된 이미지의 original image이다.\n",
    "fig, (ax1, ax2, ax3, ax4, ax5) = plt.subplots(1, 5, figsize = (20,10))\n",
    "fig.suptitle('Image of Wrong Classifications')\n",
    "ax1.imshow(x_test[wrong_predict[0],])\n",
    "ax2.imshow(x_test[wrong_predict[1],])\n",
    "ax3.imshow(x_test[wrong_predict[2],])\n",
    "ax4.imshow(x_test[wrong_predict[3],])\n",
    "ax5.imshow(x_test[wrong_predict[4],])"
   ]
  },
  {
   "cell_type": "markdown",
   "metadata": {},
   "source": [
    "###  Repeat the procedure 2~5 using \"multinomial logistic regression\", and compare the accuracies of \"multinomial logistic regression\" and \"Neural Network.\"\n"
   ]
  },
  {
   "cell_type": "code",
   "execution_count": 38,
   "metadata": {},
   "outputs": [],
   "source": [
    "m_logistic_model = tf.keras.models.Sequential([\n",
    "  tf.keras.layers.Flatten(input_shape=(28, 28)),\n",
    "  tf.keras.layers.Dense(10, activation=\"softmax\")\n",
    "])\n",
    "#tensorflow 안에 있는 keras라는 라이브러리 안에 있는 models라는 모듈 안에 있는 sequential 함수를 사용한다\n",
    "#이를 사용하여 간단한 신경망 모델을 만드느넫, 순서대로 연결된 층을 일렬로 쌓아서 구성한다\n",
    "\n",
    "#flatten: 2차원 배열 (28x28 pixel)의 이미지를 1차원 배열로 변환 - 이미지에 있는 픽셀의 행을 펼쳐서 일렬로 늘림(이 층에서는 학습되는 가중치가 없고 데이터 반환만 이루어짐)\n",
    "#이 모델은 신경망 모델이 아닌 multinomial logistic reggresion으로  바로 마지막 레이어에서 10개의 노드의 softmax 층 가져 -10개의 확률을 반환한다\n",
    "# 여기서도 위와 동일하게 각 노드는 주어진 이미지가 10개의 클래스 중 하나에 속할 확률들을 출력함"
   ]
  },
  {
   "cell_type": "markdown",
   "metadata": {},
   "source": [
    " 2 - Count how may parameters are needed with the model in 1. Check your calculation with \"model.summary()\" in python. "
   ]
  },
  {
   "cell_type": "code",
   "execution_count": 39,
   "metadata": {},
   "outputs": [
    {
     "name": "stdout",
     "output_type": "stream",
     "text": [
      "7850\n"
     ]
    }
   ],
   "source": [
    "# 필요한 parameter를 계산하는 식을 이용하면 다음과 같다.\n",
    "# parameter number = output channel 수 * (input channel 수 + 1)\n",
    "print(10*(784+1)) #7,850 개"
   ]
  },
  {
   "cell_type": "code",
   "execution_count": 40,
   "metadata": {
    "scrolled": true
   },
   "outputs": [
    {
     "name": "stdout",
     "output_type": "stream",
     "text": [
      "Model: \"sequential_1\"\n",
      "_________________________________________________________________\n",
      "Layer (type)                 Output Shape              Param #   \n",
      "=================================================================\n",
      "flatten_1 (Flatten)          (None, 784)               0         \n",
      "_________________________________________________________________\n",
      "dense_3 (Dense)              (None, 10)                7850      \n",
      "=================================================================\n",
      "Total params: 7,850\n",
      "Trainable params: 7,850\n",
      "Non-trainable params: 0\n",
      "_________________________________________________________________\n"
     ]
    }
   ],
   "source": [
    "m_logistic_model.compile(loss=\"categorical_crossentropy\", optimizer=\"sgd\", metrics=[\"accuracy\"])\n",
    "#모델을 훈련하기 전 필요한 몇가지 설정들이 compile단계를 통해 추가된다\n",
    "#loss : 손실함수 loss function- 훈련 하는 동안 모델의 오차 측정 위한 함수 결정 (모델의 학습이 올바른 방향으로 향하도록 이 함수를 최소화 함)\n",
    "#optimizer : 데이터와 손실 함수를 바탕으로 모델의 업데이트 방법을 결정 - sgd(stochastic gradient descent)선택\n",
    "#metrics: training과 test단계에서 지표 선택 - 올바르게 분류된 이미지의 비율인 accuracy 선택\n",
    "m_logistic_model.summary()\n",
    "#summmary함수를 통해 parameter 수를 확인해본 결과,\n",
    "#이 모델은 총 7,850개의 학습 parameter가 요구된다 (앞서 neural net보다 훨씩 적은 파라미터 수를 가진다)\n",
    "#앞에서 계산한 parameter개수와 동일하다"
   ]
  },
  {
   "cell_type": "markdown",
   "metadata": {},
   "source": [
    "3 -  Train your model, and draw learning curve to see whether the learning is proper or not."
   ]
  },
  {
   "cell_type": "code",
   "execution_count": 41,
   "metadata": {
    "scrolled": true
   },
   "outputs": [
    {
     "name": "stdout",
     "output_type": "stream",
     "text": [
      "Train on 50000 samples, validate on 10000 samples\n",
      "Epoch 1/20\n",
      "50000/50000 [==============================] - 2s 44us/sample - loss: 1.2123 - accuracy: 0.6384 - val_loss: 0.8873 - val_accuracy: 0.7182\n",
      "Epoch 2/20\n",
      "50000/50000 [==============================] - 1s 28us/sample - loss: 0.8151 - accuracy: 0.7404 - val_loss: 0.7517 - val_accuracy: 0.7585\n",
      "Epoch 3/20\n",
      "50000/50000 [==============================] - 1s 26us/sample - loss: 0.7224 - accuracy: 0.7686 - val_loss: 0.6911 - val_accuracy: 0.7760\n",
      "Epoch 4/20\n",
      "50000/50000 [==============================] - 2s 33us/sample - loss: 0.6719 - accuracy: 0.7858 - val_loss: 0.6514 - val_accuracy: 0.7892\n",
      "Epoch 5/20\n",
      "50000/50000 [==============================] - 1s 26us/sample - loss: 0.6384 - accuracy: 0.7963 - val_loss: 0.6262 - val_accuracy: 0.7944\n",
      "Epoch 6/20\n",
      "50000/50000 [==============================] - 1s 27us/sample - loss: 0.6140 - accuracy: 0.8025 - val_loss: 0.6048 - val_accuracy: 0.8027\n",
      "Epoch 7/20\n",
      "50000/50000 [==============================] - 1s 24us/sample - loss: 0.5951 - accuracy: 0.8079 - val_loss: 0.5900 - val_accuracy: 0.8071\n",
      "Epoch 8/20\n",
      "50000/50000 [==============================] - 1s 27us/sample - loss: 0.5799 - accuracy: 0.8130 - val_loss: 0.5759 - val_accuracy: 0.8104\n",
      "Epoch 9/20\n",
      "50000/50000 [==============================] - 2s 32us/sample - loss: 0.5674 - accuracy: 0.8161 - val_loss: 0.5649 - val_accuracy: 0.8131\n",
      "Epoch 10/20\n",
      "50000/50000 [==============================] - 1s 25us/sample - loss: 0.5568 - accuracy: 0.8197 - val_loss: 0.5577 - val_accuracy: 0.8132\n",
      "Epoch 11/20\n",
      "50000/50000 [==============================] - 1s 27us/sample - loss: 0.5479 - accuracy: 0.8218 - val_loss: 0.5490 - val_accuracy: 0.8169\n",
      "Epoch 12/20\n",
      "50000/50000 [==============================] - 1s 26us/sample - loss: 0.5399 - accuracy: 0.8244 - val_loss: 0.5423 - val_accuracy: 0.8193\n",
      "Epoch 13/20\n",
      "50000/50000 [==============================] - 1s 27us/sample - loss: 0.5329 - accuracy: 0.8258 - val_loss: 0.5351 - val_accuracy: 0.8209\n",
      "Epoch 14/20\n",
      "50000/50000 [==============================] - 1s 26us/sample - loss: 0.5266 - accuracy: 0.8273 - val_loss: 0.5300 - val_accuracy: 0.8206\n",
      "Epoch 15/20\n",
      "50000/50000 [==============================] - 1s 27us/sample - loss: 0.5211 - accuracy: 0.8282 - val_loss: 0.5253 - val_accuracy: 0.8218\n",
      "Epoch 16/20\n",
      "50000/50000 [==============================] - 2s 31us/sample - loss: 0.5160 - accuracy: 0.8295 - val_loss: 0.5212 - val_accuracy: 0.8228\n",
      "Epoch 17/20\n",
      "50000/50000 [==============================] - 1s 29us/sample - loss: 0.5115 - accuracy: 0.8312 - val_loss: 0.5169 - val_accuracy: 0.8256\n",
      "Epoch 18/20\n",
      "50000/50000 [==============================] - 1s 26us/sample - loss: 0.5073 - accuracy: 0.8320 - val_loss: 0.5129 - val_accuracy: 0.8260\n",
      "Epoch 19/20\n",
      "50000/50000 [==============================] - 1s 26us/sample - loss: 0.5034 - accuracy: 0.8334 - val_loss: 0.5097 - val_accuracy: 0.8265\n",
      "Epoch 20/20\n",
      "50000/50000 [==============================] - 1s 26us/sample - loss: 0.4997 - accuracy: 0.8346 - val_loss: 0.5056 - val_accuracy: 0.8285\n"
     ]
    }
   ],
   "source": [
    "m_logistic_history =  m_logistic_model.fit(x_train, y_train, epochs=20, validation_data=(x_valid, y_valid), batch_size=128)\n",
    "#모델 훈련- train data 학습, epoch(신경망에서 전체 데이터 셋에 대해 한 번 학습을 완료한 상태)은 20으로 설정 \n",
    "#batch size(한번의 batch 마다 주는 데이터 sample의 size) 는 128로 설정 "
   ]
  },
  {
   "cell_type": "code",
   "execution_count": 42,
   "metadata": {},
   "outputs": [],
   "source": [
    "m_result = m_logistic_history.history"
   ]
  },
  {
   "cell_type": "code",
   "execution_count": 43,
   "metadata": {},
   "outputs": [
    {
     "data": {
      "image/png": "[encoded data removed]",
      "text/plain": [
       "<Figure size 432x288 with 1 Axes>"
      ]
     },
     "metadata": {
      "needs_background": "light"
     },
     "output_type": "display_data"
    }
   ],
   "source": [
    "plt.plot(m_result['loss'], label=\"train\")\n",
    "plt.plot(m_result['val_loss'], label = \"valid\")\n",
    "plt.title(\"Model Loss\")\n",
    "plt.xlabel('Epochs')\n",
    "plt.ylabel('Loss')\n",
    "plt.legend(fontsize='x-large')\n",
    "plt.show() #잘 학습되었는지 loss를 figure를 통해 확인"
   ]
  },
  {
   "cell_type": "code",
   "execution_count": 44,
   "metadata": {},
   "outputs": [
    {
     "data": {
      "image/png": "[encoded data removed]",
      "text/plain": [
       "<Figure size 432x288 with 1 Axes>"
      ]
     },
     "metadata": {
      "needs_background": "light"
     },
     "output_type": "display_data"
    }
   ],
   "source": [
    "plt.plot(m_result[\"accuracy\"], label=\"train\")\n",
    "plt.plot(m_result[\"val_accuracy\"], label=\"valid\")\n",
    "plt.legend(fontsize='x-large')\n",
    "plt.show()\n",
    "plt.show() #잘 학습되었는지 accuracy를 figure를 통해 확인"
   ]
  },
  {
   "cell_type": "markdown",
   "metadata": {},
   "source": [
    "4 -  Using the model in 3, predict the test set. What is the accuracy of your model in the test data ? "
   ]
  },
  {
   "cell_type": "code",
   "execution_count": 45,
   "metadata": {},
   "outputs": [],
   "source": [
    "#직접 predict하여 비교하여 accuracy를 구하였다"
   ]
  },
  {
   "cell_type": "code",
   "execution_count": 46,
   "metadata": {},
   "outputs": [
    {
     "data": {
      "text/plain": [
       "array([5.3266336e-05, 5.4278444e-05, 3.8225509e-04, 8.2979946e-05,\n",
       "       7.2061410e-04, 1.6597296e-01, 3.8422487e-04, 2.5697315e-01,\n",
       "       1.5996596e-02, 5.5937970e-01], dtype=float32)"
      ]
     },
     "execution_count": 46,
     "metadata": {},
     "output_type": "execute_result"
    }
   ],
   "source": [
    "y_pred_logistic = m_logistic_model.predict(x_test) #앞서 훈련한 모델을 사용하여 test set에 있는 각 이미지의 label 예측\n",
    "y_pred_logistic[0,:]  # 예측결과 , 10개의 숫자 배열로 나타남 "
   ]
  },
  {
   "cell_type": "code",
   "execution_count": 47,
   "metadata": {},
   "outputs": [
    {
     "name": "stdout",
     "output_type": "stream",
     "text": [
      "(10000, 10)\n"
     ]
    }
   ],
   "source": [
    "print(y_pred_logistic.shape)"
   ]
  },
  {
   "cell_type": "code",
   "execution_count": 48,
   "metadata": {},
   "outputs": [],
   "source": [
    "y_pred_logistic_class = np.argmax(y_pred_logistic, axis=1) #다차원 배열에서 차원에 따라 가장 큰 값의 index들을 반환해주는 np.argmax함수를 이용하여 최종적으로 label를 예측한다"
   ]
  },
  {
   "cell_type": "code",
   "execution_count": 49,
   "metadata": {},
   "outputs": [
    {
     "data": {
      "text/plain": [
       "array([9, 2, 1, 1, 6], dtype=int64)"
      ]
     },
     "execution_count": 49,
     "metadata": {},
     "output_type": "execute_result"
    }
   ],
   "source": [
    "y_pred_logistic_class[:5] # 예측된 class들을 살펴보면 다음과 같이  하나의 클래스로 결정된다. "
   ]
  },
  {
   "cell_type": "code",
   "execution_count": 50,
   "metadata": {},
   "outputs": [
    {
     "data": {
      "text/plain": [
       "0.8228"
      ]
     },
     "execution_count": 50,
     "metadata": {},
     "output_type": "execute_result"
    }
   ],
   "source": [
    "np.mean(y_test == y_pred_logistic_class)  #올바르게 분류된 이미지의 비율인 accuracy를 계산해보면 0.8228이 나온다\n",
    "# 앞서 neural net을 사용했을 때 accuracy가 0.8498이었는데 이와 비교해보았을 때, neural net이 더 성능이 좋은 모델이라는 것을 알 수 있다"
   ]
  },
  {
   "cell_type": "markdown",
   "metadata": {},
   "source": [
    "5 - Draw the first 5 figures of wrong predictions. What are predicted classifications by your model and the actual classifications for these figures?"
   ]
  },
  {
   "cell_type": "code",
   "execution_count": 51,
   "metadata": {},
   "outputs": [],
   "source": [
    "m_predict_result = (y_test == y_pred_logistic_class) #잘못 예측된 이미지를 찾기 위해 먼저 true, false 형태로 잘 예측되었는지 뽑아낸다"
   ]
  },
  {
   "cell_type": "code",
   "execution_count": 52,
   "metadata": {},
   "outputs": [
    {
     "data": {
      "text/plain": [
       "array([ True,  True,  True,  True,  True,  True,  True,  True,  True,\n",
       "        True])"
      ]
     },
     "execution_count": 52,
     "metadata": {},
     "output_type": "execute_result"
    }
   ],
   "source": [
    "m_predict_result[0:10]"
   ]
  },
  {
   "cell_type": "code",
   "execution_count": 53,
   "metadata": {},
   "outputs": [],
   "source": [
    "nrange = np.arange(0, 10000) #총 10000개의 test 이미지 중 잘못된 걸 뽑아내기 위해 먼저 범위 지정"
   ]
  },
  {
   "cell_type": "code",
   "execution_count": 54,
   "metadata": {},
   "outputs": [],
   "source": [
    "m_wrong_predict = nrange[m_predict_result==False] # class 분류 결과 false인것만 뽑아온다"
   ]
  },
  {
   "cell_type": "code",
   "execution_count": 55,
   "metadata": {},
   "outputs": [
    {
     "name": "stdout",
     "output_type": "stream",
     "text": [
      "[5 6 0 7 7] [7 4 2 5 9]\n"
     ]
    }
   ],
   "source": [
    "print(y_pred_logistic_class[m_wrong_predict[0:5],], y_test[m_wrong_predict[0:5]])\n",
    "#앞서 잘못 예측된 이미지는 각각 5 6 0 7 7 class로 예측되었으나\n",
    "#실제로는 7 4 2 5 9의 class를 가지고 있었어야 했다."
   ]
  },
  {
   "cell_type": "code",
   "execution_count": 56,
   "metadata": {},
   "outputs": [
    {
     "name": "stdout",
     "output_type": "stream",
     "text": [
      "original label of  12 th index:  Sneaker\n",
      "predicted label:  12 th index:   Sandal\n",
      "-----------------------------------\n",
      "original label of  17 th index:  Coat\n",
      "predicted label:  17 th index:  Shirt\n",
      "-----------------------------------\n",
      "original label of  20 th index:  Pullover\n",
      "predicted label:  20 th index:  T-shirt/top\n",
      "-----------------------------------\n",
      "original label of  21 th index:   Sandal\n",
      "predicted label:  21 th index:  Sneaker\n",
      "-----------------------------------\n",
      "original label of  23 th index:  Ankle boot\n",
      "predicted label:  23 th index:  Sneaker\n",
      "-----------------------------------\n"
     ]
    }
   ],
   "source": [
    "#다섯개의 잘못분류된 이미지의 본래 라벨, 예측 라벨을 클래스 이름으로 뽑아보면 다음과 같다\n",
    "for idx in m_wrong_predict[:5]:\n",
    "    print('original label of ',idx, 'th index: ', class_names[y_test[idx]])\n",
    "    print('predicted label: ',idx, 'th index: ',  class_names[y_pred_logistic_class[idx]])\n",
    "    print('-----------------------------------')"
   ]
  },
  {
   "cell_type": "code",
   "execution_count": 57,
   "metadata": {},
   "outputs": [
    {
     "data": {
      "text/plain": [
       "<matplotlib.image.AxesImage at 0x1c757827f48>"
      ]
     },
     "execution_count": 57,
     "metadata": {},
     "output_type": "execute_result"
    },
    {
     "data": {
      "image/png": "[encoded data removed]",
      "text/plain": [
       "<Figure size 1440x720 with 5 Axes>"
      ]
     },
     "metadata": {
      "needs_background": "light"
     },
     "output_type": "display_data"
    }
   ],
   "source": [
    "#잘못 예측된 이미지 5개를 뽑아보면 다음과 같다\n",
    "#5개의 이미지를 한번에 확인하기 위해 subplot함수를 사용하였다\n",
    "#여기서 나오는 이미지는 original label과 다르게 잘못 예측된 이미지의 original image이다\n",
    "fig, (ax1, ax2, ax3, ax4, ax5) = plt.subplots(1, 5, figsize = (20,10))\n",
    "fig.suptitle('Image of Wrong Classifications')\n",
    "ax1.imshow(x_test[m_wrong_predict[0],])\n",
    "ax2.imshow(x_test[m_wrong_predict[1],])\n",
    "ax3.imshow(x_test[m_wrong_predict[2],])\n",
    "ax4.imshow(x_test[m_wrong_predict[3],])\n",
    "ax5.imshow(x_test[m_wrong_predict[4],])"
   ]
  }
 ],
 "metadata": {
  "kernelspec": {
   "display_name": "Python 3",
   "language": "python",
   "name": "python3"
  },
  "language_info": {
   "codemirror_mode": {
    "name": "ipython",
    "version": 3
   },
   "file_extension": ".py",
   "mimetype": "text/x-python",
   "name": "python",
   "nbconvert_exporter": "python",
   "pygments_lexer": "ipython3",
   "version": "3.7.4"
  },
  "toc": {
   "base_numbering": 1,
   "nav_menu": {},
   "number_sections": true,
   "sideBar": true,
   "skip_h1_title": false,
   "title_cell": "Table of Contents",
   "title_sidebar": "Contents",
   "toc_cell": false,
   "toc_position": {},
   "toc_section_display": true,
   "toc_window_display": false
  }
 },
 "nbformat": 4,
 "nbformat_minor": 2
}

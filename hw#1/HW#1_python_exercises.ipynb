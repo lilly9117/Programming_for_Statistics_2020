{
 "cells": [
  {
   "cell_type": "markdown",
   "metadata": {},
   "source": [
    "# HW 1 -1870091 최혜빈"
   ]
  },
  {
   "cell_type": "markdown",
   "metadata": {},
   "source": [
    "## How to solve these exercises\n",
    "\n",
    "We use an iPython notebook for all of our exercises. The process is very similar compared to the live coding sessions, but instead of repeating what we do in front of the class we already made a notebook for you that you can complete yourself.\n",
    "\n",
    "We have classified exercises according to their difficulty as **Basics**, **Medium** and **Involved**. Make sure you do at least the **Basics** exercises for each topic and the **Medium** if you can, but don't worry if you get stuck on the **Involved** ones. "
   ]
  },
  {
   "cell_type": "markdown",
   "metadata": {},
   "source": [
    "### Problem 4. Strings manipulation\n",
    "\n",
    "We will now try a few functions from the standard library for strings. Everything you need should be available in the string module."
   ]
  },
  {
   "cell_type": "markdown",
   "metadata": {},
   "source": [
    ">**(a)** Find the functions to transform the following string into: lowercase, uppercase, sentence- case (first letter of first word is capitalized)."
   ]
  },
  {
   "cell_type": "code",
   "execution_count": 1,
   "metadata": {},
   "outputs": [
    {
     "name": "stdout",
     "output_type": "stream",
     "text": [
      "uSiNg aPPrOpRiAtE cApiTaLISAtiOn iS iMpOrTaNt fOr yOuR rEaDerS' SANity\n",
      "using appropriate capitalisation is important for your readers' sanity\n",
      "Using appropriate capitalisation is important for your readers' sanity\n"
     ]
    }
   ],
   "source": [
    "import string\n",
    "\n",
    "message = \"uSiNg aPPrOpRiAtE cApiTaLISAtiOn iS iMpOrTaNt fOr yOuR rEaDerS' SANity\"\n",
    "lowercased =  message.lower() #모두 소문자로\n",
    "sentencecased = message.capitalize() #모두 대문자로\n",
    "\n",
    "print(message + '\\n' + lowercased + '\\n' + sentencecased)"
   ]
  },
  {
   "cell_type": "markdown",
   "metadata": {},
   "source": [
    ">**(b)** Find how to align some text to the left, the right or to the center of a string of known fixed width. This could be useful to align your table in the next problem for example."
   ]
  },
  {
   "cell_type": "code",
   "execution_count": 2,
   "metadata": {},
   "outputs": [
    {
     "name": "stdout",
     "output_type": "stream",
     "text": [
      "I want this aligned properly! \n",
      "********************\n",
      "align me            \n",
      "            align me\n",
      "      align me      \n",
      "********************\n"
     ]
    }
   ],
   "source": [
    "# from string import ??\n",
    "# Question (b)\n",
    "text = 'align me'\n",
    "width = 20\n",
    "stars = '*'*width\n",
    "text_left   =  text.ljust(20) #왼쪽으로 정렬\n",
    "text_right  =  text.rjust(20) #오른쪽으로 정렬\n",
    "text_center =  text.center(20) #가운데로 정렬\n",
    "\n",
    "print('I want this aligned properly! ' + '\\n' + stars + '\\n' + text_left + '\\n' + \n",
    "        text_right + '\\n' + text_center + '\\n' + stars)"
   ]
  },
  {
   "cell_type": "markdown",
   "metadata": {},
   "source": [
    ">**Hints:** Read the string module documentation carefully! https://docs.python.org/2/library/string.html Functions sometimes have similar names, but do different things!"
   ]
  },
  {
   "cell_type": "code",
   "execution_count": 3,
   "metadata": {},
   "outputs": [
    {
     "name": "stdout",
     "output_type": "stream",
     "text": [
      "                 right aligned\n",
      "        center aligned        \n",
      "left aligned                  \n"
     ]
    }
   ],
   "source": [
    "#Jaeyoun's hint to the students:\n",
    "print('{:>30}'.format('right aligned'))\n",
    "print('{:^30}'.format('center aligned'))\n",
    "print('{:<30}'.format('left aligned'))"
   ]
  },
  {
   "cell_type": "markdown",
   "metadata": {},
   "source": [
    ">**(c)** Enforce the correct spelling of Python. It is not “Pyhton”, “python” or “pythons”. (Hint: you can chain multiple function calls: the output of one function can be the input of another one)"
   ]
  },
  {
   "cell_type": "code",
   "execution_count": 4,
   "metadata": {},
   "outputs": [
    {
     "name": "stdout",
     "output_type": "stream",
     "text": [
      "Scientific Programming in Pyhton: The student will be able to write simple programs in pythons.\n",
      "Scientific Programming in Python: The student will be able to write simple programs in Python.\n"
     ]
    }
   ],
   "source": [
    "# Question (c)\n",
    "email = \"Scientific Programming in Pyhton: The student will be able to write simple programs in pythons.\"\n",
    "corrected = '' # Replace me print email + '\\n' + corrected\n",
    "\n",
    "def spellchecker(email):\n",
    "    mysplit = email.split()\n",
    "    for i in range(len(mysplit)): #잘못입력된 부분 수정\n",
    "        if mysplit[i]=='Pyhton:' :\n",
    "            mysplit[i]='Python:'\n",
    "        elif mysplit[i] == 'python':\n",
    "            mysplit[i] ='Python'\n",
    "        elif mysplit[i]==\"pythons.\" :\n",
    "            mysplit[i]=\"Python.\" \n",
    "        \n",
    "    corrected_email = \" \".join(mysplit)\n",
    "    return corrected_email\n",
    "      \n",
    "myreturn = spellchecker(email)\n",
    "print(email + '\\n' + myreturn)"
   ]
  },
  {
   "cell_type": "code",
   "execution_count": 5,
   "metadata": {},
   "outputs": [
    {
     "name": "stdout",
     "output_type": "stream",
     "text": [
      "['Scientific', 'Programming', 'in', 'Pyhton:', 'The', 'student', 'will', 'be', 'able', 'to', 'write', 'simple', 'programs', 'in', 'pythons.']\n",
      "Scientific Programming in Pyhton: The student will be able to write simple programs in pythons.\n"
     ]
    }
   ],
   "source": [
    "#Jaeyoun's hint to the students:\n",
    "email = \"Scientific Programming in Pyhton: The student will be able to write simple programs in pythons.\"\n",
    "mysplit = email.split()\n",
    "print(mysplit)\n",
    "myjoin = \" \".join(mysplit)\n",
    "print(myjoin)\n"
   ]
  },
  {
   "cell_type": "markdown",
   "metadata": {},
   "source": [
    "### Problem 5 *Basics*: Alphabet \n",
    "In this problem we’ll recap basic list methods, using the alphabet"
   ]
  },
  {
   "cell_type": "markdown",
   "metadata": {},
   "source": [
    ">**(a)** We’ll first start by making a list each of the upper and lower case letters in the English alphabet:"
   ]
  },
  {
   "cell_type": "code",
   "execution_count": 6,
   "metadata": {},
   "outputs": [],
   "source": [
    "import string\n",
    "# your code here\n",
    "uc = ['A', 'B', 'C', 'D', 'E', 'F', 'G', 'H', 'I', 'J', 'K', 'L', 'M', 'N', 'O', \n",
    "      'P', 'Q', 'R', 'S', 'T', 'U', 'V', 'W', 'X', 'Y', 'Z']\n",
    "lc = ['a', 'b', 'c', 'd', 'e', 'f', 'g', 'h', 'i', 'j', 'k', 'l', 'm', 'n', 'o', \n",
    "      'p', 'q', 'r', 's', 't', 'u', 'v', 'w', 'x', 'y', 'z']\n",
    "# The result should look like this:\n",
    "# uc = ['A', 'B', 'C', 'D', 'E', 'F', 'G', 'H', 'I', 'J', 'K', 'L', 'M', 'N', 'O', \n",
    "#       'P', 'Q', 'R', 'S', 'T', 'U', 'V', 'W', 'X', 'Y', 'Z']\n",
    "# lc = ['a', 'b', 'c', 'd', 'e', 'f', 'g', 'h', 'i', 'j', 'k', 'l', 'm', 'n', 'o', \n",
    "#       'p', 'q', 'r', 's', 't', 'u', 'v', 'w', 'x', 'y', 'z']"
   ]
  },
  {
   "cell_type": "code",
   "execution_count": 7,
   "metadata": {},
   "outputs": [],
   "source": [
    "#영어 대소문자 리스트 생성하는 다른 방법\n",
    "uc = [chr(c) for c in range(ord('A'), ord('Z')+1)] #A~Z 리스트 생성\n",
    "lc = [chr(c) for c in range(ord('a'), ord('z')+1)] #a~z 리스트 생성"
   ]
  },
  {
   "cell_type": "markdown",
   "metadata": {},
   "source": [
    ">**(b)** Blank your full name from both lists, using a ```for``` loop (it's easiest to first concatenate them):"
   ]
  },
  {
   "cell_type": "code",
   "execution_count": 9,
   "metadata": {},
   "outputs": [
    {
     "name": "stdout",
     "output_type": "stream",
     "text": [
      "['A', 'B', 'C', 'D', 'E', 'F', 'G', 'H', 'I', 'J', 'K', 'L', 'M', 'N', 'O', 'P', 'Q', 'R', 'S', 'T', 'U', 'V', 'W', 'X', 'Y', 'Z', 'a', 'b', 'c', 'd', 'e', 'f', 'g', 'h', 'i', 'j', 'k', 'l', 'm', 'n', 'o', 'p', 'q', 'r', 's', 't', 'u', 'v', 'w', 'x', 'y', 'z']\n",
      "['A', '*', '*', 'D', 'E', 'F', 'G', '*', 'I', 'J', 'K', 'L', 'M', 'N', 'O', 'P', 'Q', 'R', 'S', 'T', 'U', 'V', 'W', 'X', 'Y', 'Z', 'a', 'b', 'c', 'd', '*', 'f', 'g', '*', '*', 'j', 'k', 'l', 'm', '*', '*', 'p', 'q', 'r', 's', 't', 'u', 'v', 'w', 'x', '*', 'z']\n"
     ]
    }
   ],
   "source": [
    "# Hint: For each item in the list, check whether it is in the name\n",
    "myname = \"Choi Hye Bin\"\n",
    "full_list = uc + lc\n",
    "print(full_list)\n",
    "\n",
    "#list comprehension\n",
    "#myname 해당 문자만 *로 변경\n",
    "new_list = [cha_one if cha_one not in myname else \"*\" for cha_one in full_list]\n",
    "print(new_list)\n",
    "\n",
    "# The result should look like this if you blank \"Jeremy Bentham\":\n",
    "# ['A', '*', 'C', 'D', 'E', 'F', 'G', 'H', 'I', '*', 'K', 'L', 'M', 'N', 'O', 'P', 'Q', 'R', 'S', 'T', \n",
    "#  'U', 'V', 'W', 'X', 'Y', 'Z', '*', 'b', 'c', 'd', '*', 'f', 'g', '*', 'i', 'j', 'k', 'l', '*', '*', \n",
    "#  'o', 'p', 'q', '*', 's', '*', 'u', 'v', 'w', 'x', '*', 'z']"
   ]
  },
  {
   "cell_type": "markdown",
   "metadata": {},
   "source": [
    ">**(c)** Sort the list and remove the leading blanks:\n",
    "\n",
    "> Hint: print each letter along with its index; you can then create a new list with a ```slice```"
   ]
  },
  {
   "cell_type": "code",
   "execution_count": 10,
   "metadata": {
    "scrolled": true
   },
   "outputs": [
    {
     "name": "stdout",
     "output_type": "stream",
     "text": [
      "['A', 'B', 'C', 'D', 'E', 'F', 'G', 'H', 'I', 'J', 'K', 'L', 'M', 'N', 'O', 'P', 'Q', 'R', 'S', 'T', 'U', 'V', 'W', 'X', 'Y', 'Z', 'a', 'b', 'c', 'd', 'e', 'f', 'g', 'h', 'i', 'j', 'k', 'l', 'm', 'n', 'o', 'p', 'q', 'r', 's', 't', 'u', 'v', 'w', 'x', 'y', 'z']\n"
     ]
    }
   ],
   "source": [
    "full_list = uc+lc\n",
    "print(full_list)"
   ]
  },
  {
   "cell_type": "code",
   "execution_count": 11,
   "metadata": {},
   "outputs": [
    {
     "name": "stdout",
     "output_type": "stream",
     "text": [
      "['A', 'D', 'E', 'F', 'G', 'I', 'J', 'K', 'L', 'M', 'N', 'O', 'P', 'Q', 'R', 'S', 'T', 'U', 'V', 'W', 'X', 'Y', 'Z', 'a', 'b', 'c', 'd', 'f', 'g', 'j', 'k', 'l', 'm', 'p', 'q', 'r', 's', 't', 'u', 'v', 'w', 'x', 'z']\n"
     ]
    }
   ],
   "source": [
    "myname = \"Choi Hye Bin\"\n",
    "full_list = uc + lc\n",
    "\n",
    "n_l = []\n",
    "for i in range(len(myname)):\n",
    "    if myname[i] not in n_l:\n",
    "        n_l.append(myname[i])\n",
    "n_l.remove(' ')\n",
    "\n",
    "for s in n_l:\n",
    "    full_list.remove(s)\n",
    "    full_list.insert(0,s)\n",
    "\n",
    "#myname 해당 문자만 모두 앞으로 옮긴채, slice로 myname해당 문자 제외한 문자만 리스트에 담음\n",
    "sl =slice(len(n_l),None)\n",
    "blanks_removed = full_list[sl]\n",
    "print(blanks_removed)"
   ]
  },
  {
   "cell_type": "code",
   "execution_count": null,
   "metadata": {
    "collapsed": true
   },
   "outputs": [],
   "source": [
    "# The result should look like this:\n",
    "# blanks_removed = ['A', 'C', 'D', 'E', 'F', 'G', 'H', 'I', 'K', 'L', 'M', 'N', 'O', 'P', 'Q', 'R', \n",
    "#                   'S', 'T', 'U', 'V', 'W', 'X', 'Y', 'Z', 'b', 'c', 'd', 'f', 'g', 'i', 'j', 'k', \n",
    "#                   'l', 'o', 'p', 'q', 's', 'u', 'v', 'w', 'x', 'z']"
   ]
  },
  {
   "cell_type": "markdown",
   "metadata": {},
   "source": [
    "### Problem 6 *Medium*: Multiplication Table\n",
    "In this problem we’ll use for-loops, some lists and control how values are printed on screen, to produce a full multiplication table (from 1 to 12). https://en.wikipedia.org/wiki/Multiplication_table"
   ]
  },
  {
   "cell_type": "markdown",
   "metadata": {},
   "source": [
    ">**(a)** We’ll first start by creating the multiplication table for the number 2, i.e. what you get when you multiply the numbers from 1 to 12 by 2. Use a for-loop:"
   ]
  },
  {
   "cell_type": "code",
   "execution_count": 12,
   "metadata": {},
   "outputs": [],
   "source": [
    "max_time = 12\n",
    "number = 2\n",
    "# ... Your code here\n",
    "# times_2 should now be [2, 4, 6, 8, 10, 12, 14, 16, 18, 20, 22, 24]"
   ]
  },
  {
   "cell_type": "code",
   "execution_count": 13,
   "metadata": {},
   "outputs": [
    {
     "name": "stdout",
     "output_type": "stream",
     "text": [
      "[2, 4, 6, 8, 10, 12, 14, 16, 18, 20, 22, 24]\n"
     ]
    }
   ],
   "source": [
    "t2 = []\n",
    "for i in range(1, max_time +1):\n",
    "    t2.append(i*number)\n",
    "\n",
    "print(t2)"
   ]
  },
  {
   "cell_type": "markdown",
   "metadata": {},
   "source": [
    ">**(b)** Now we’ll just format the result so that it looks nicer. Write code to automatically convert times_2 into the following string (separate with spaces):"
   ]
  },
  {
   "cell_type": "raw",
   "metadata": {},
   "source": [
    "2 | 2 4 6 8 10 12 14 16 18 20"
   ]
  },
  {
   "cell_type": "code",
   "execution_count": 14,
   "metadata": {},
   "outputs": [
    {
     "name": "stdout",
     "output_type": "stream",
     "text": [
      "2 | 2 4 6 8 10 12 14 16 18 20 22 24\n"
     ]
    }
   ],
   "source": [
    "# Your code here\n",
    "max_time = 12\n",
    "number = 2\n",
    "def make_product_line(number, max_time):\n",
    "    t2 = []\n",
    "    t2.append(str(number))\n",
    "    t2.append(\"|\")   \n",
    "    for i in range(1, max_time+1):\n",
    "        t2.append(str(i*number))\n",
    "    return t2\n",
    "temp= make_product_line(number, max_time)\n",
    "temp =\" \".join(temp)\n",
    "print(temp)"
   ]
  },
  {
   "cell_type": "markdown",
   "metadata": {},
   "source": [
    ">**(c)** We’ve actually already generated one line of our full table. You could just copy and paste your code and change the loop to get all the lines from 1 to 12, but you might make a mistake, or you might want to get lines from 1 to 1000. Looking at your code, if you change the <code>number</code> variable it should create the correct line for the value contained in <code>number</code>. So we just have to loop over the values of 1 to 12 for this <code>number</code> variable.\n",
    "This is called nested loops, and you’ll use nested loops over and over again in your programs. Simply put another loop into your loop (make sure that you give the iterating variable a different name for each loop). What does the following piece of code do? Write down what you think the output would be if <code>max\\_time</code> contained the value 4 and then set <code>max\\_time</code> to 4 and run this piece of code and make sure you were right."
   ]
  },
  {
   "cell_type": "code",
   "execution_count": 15,
   "metadata": {},
   "outputs": [
    {
     "name": "stdout",
     "output_type": "stream",
     "text": [
      "0 0\n",
      "0 1\n",
      "0 2\n",
      "0 3\n",
      "1 0\n",
      "1 1\n",
      "1 2\n",
      "1 3\n",
      "2 0\n",
      "2 1\n",
      "2 2\n",
      "2 3\n",
      "3 0\n",
      "3 1\n",
      "3 2\n",
      "3 3\n"
     ]
    }
   ],
   "source": [
    "max_time = 4\n",
    "for i in range(max_time):\n",
    "    for j in range(max_time):\n",
    "        print(i,j)"
   ]
  },
  {
   "cell_type": "markdown",
   "metadata": {},
   "source": [
    ">**(d)** Using nested loops, create all the lines of the times table, for all numbers between 1 and 12. Use the same format as in part (b). Create two more lines on top to put the label of each column. You should get the following output:"
   ]
  },
  {
   "cell_type": "raw",
   "metadata": {},
   "source": [
    " 1 2 3 4 5 6 7 8 9 10 11 12\n",
    "------------------------------\n",
    "1 | 1 2 3 4 5 6 7 8 9 10 11 12\n",
    "2 | 2 4 6 8 10 12 14 16 18 20 22 24\n",
    "3 | 3 6 9 12 15 18 21 24 27 30 33 36\n",
    "4 | 4 8 12 16 20 24 28 32 36 40 44 48\n",
    "5 | 5 10 15 20 25 30 35 40 45 50 55 60\n",
    "6 | 6 12 18 24 30 36 42 48 54 60 66 72\n",
    "7 | 7 14 21 28 35 42 49 56 63 70 77 84\n",
    "8 | 8 16 24 32 40 48 56 64 72 80 88 96\n",
    "9 | 9 18 27 36 45 54 63 72 81 90 99 108\n",
    "10 | 10 20 30 40 50 60 70 80 90 100 110 120\n",
    "11 | 11 22 33 44 55 66 77 88 99 110 121 132\n",
    "12 | 12 24 36 48 60 72 84 96 108 120 132 144"
   ]
  },
  {
   "cell_type": "code",
   "execution_count": 16,
   "metadata": {},
   "outputs": [
    {
     "name": "stdout",
     "output_type": "stream",
     "text": [
      "1 2 3 4 5 6 7 8 9 10 11 12 \n",
      "------------------------------------\n",
      "1 | 1 2 3 4 5 6 7 8 9 10 11 12 \n",
      "2 | 2 4 6 8 10 12 14 16 18 20 22 24 \n",
      "3 | 3 6 9 12 15 18 21 24 27 30 33 36 \n",
      "4 | 4 8 12 16 20 24 28 32 36 40 44 48 \n",
      "5 | 5 10 15 20 25 30 35 40 45 50 55 60 \n",
      "6 | 6 12 18 24 30 36 42 48 54 60 66 72 \n",
      "7 | 7 14 21 28 35 42 49 56 63 70 77 84 \n",
      "8 | 8 16 24 32 40 48 56 64 72 80 88 96 \n",
      "9 | 9 18 27 36 45 54 63 72 81 90 99 108 \n",
      "10 | 10 20 30 40 50 60 70 80 90 100 110 120 \n",
      "11 | 11 22 33 44 55 66 77 88 99 110 121 132 \n",
      "12 | 12 24 36 48 60 72 84 96 108 120 132 144 \n"
     ]
    }
   ],
   "source": [
    "max_time = 10\n",
    "number = 3\n",
    "\n",
    "#row 생성\n",
    "def row(number, max_time):\n",
    "    row = []\n",
    "    for i in range(1,max_time+1):\n",
    "        row.append(number*i)   \n",
    "    return(row)\n",
    "\n",
    "#row 출력\n",
    "def print_row(row):\n",
    "    pr = str(row[0]) + \" | \"\n",
    "    for i in row:\n",
    "        pr = pr + str(i) + ' '\n",
    "    print(pr)\n",
    "\n",
    "#맨 위 header 출력\n",
    "def print_header(max_time):\n",
    "    header = ''\n",
    "    for i in range(1,max_time+1):\n",
    "        header = header + str(i) + ' '\n",
    "    print(header)\n",
    "    print('---'*max_time)\n",
    "\n",
    "#위 함수 통합하여 timetable 출력\n",
    "def times_table(max_time):\n",
    "    print_header(max_time)\n",
    "    for i in range(1,max_time+1):\n",
    "          print_row(row(i,max_time))\n",
    "            \n",
    "times_table(12)"
   ]
  },
  {
   "cell_type": "markdown",
   "metadata": {},
   "source": [
    ">**Hint**: Generate a line for each line, and print it only when it’s complete. You actually do not need to create the intermediate list anymore, you can generate the string for the current line directly"
   ]
  },
  {
   "cell_type": "markdown",
   "metadata": {},
   "source": [
    ">**(e)** As you can see, our table is not well-aligned. We really need to enforce a minimum “size” used by each number. We can do that easily by putting spaces around the numbers when they are too short. Modify the code for your multiplication table so that the columns of the table it prints are aligned. Hint: the code <code>len(str(n)) == 1</code> will be <code>true</code> if the number contained in the variable n is one digit long.\n",
    "Correct your code to get the following output:"
   ]
  },
  {
   "cell_type": "raw",
   "metadata": {},
   "source": [
    "        1    2    3    4    5    6    7    8    9   10   11   12\n",
    "    ------------------------------------------------------------------------\n",
    " 1 |    1    2    3    4    5    6    7    8    9   10   11   12 \n",
    " 2 |    2    4    6    8   10   12   14   16   18   20   22   24 \n",
    " 3 |    3    6    9   12   15   18   21   24   27   30   33   36 \n",
    " 4 |    4    8   12   16   20   24   28   32   36   40   44   48 \n",
    " 5 |    5   10   15   20   25   30   35   40   45   50   55   60 \n",
    " 6 |    6   12   18   24   30   36   42   48   54   60   66   72 \n",
    " 7 |    7   14   21   28   35   42   49   56   63   70   77   84 \n",
    " 8 |    8   16   24   32   40   48   56   64   72   80   88   96 \n",
    " 9 |    9   18   27   36   45   54   63   72   81   90   99  108 \n",
    "10 |   10   20   30   40   50   60   70   80   90  100  110  120 \n",
    "11 |   11   22   33   44   55   66   77   88   99  110  121  132 \n",
    "12 |   12   24   36   48   60   72   84   96  108  120  132  144 "
   ]
  },
  {
   "cell_type": "markdown",
   "metadata": {},
   "source": [
    ">**Hint:** Remember the <code>ljust(), rjust()</code> and <code>center()</code>functions!   "
   ]
  },
  {
   "cell_type": "code",
   "execution_count": 17,
   "metadata": {},
   "outputs": [
    {
     "name": "stdout",
     "output_type": "stream",
     "text": [
      "        1    2    3    4    5    6    7    8    9   10   11   12 \n",
      "    ------------------------------------------------------------\n",
      " 1 |    1    2    3    4    5    6    7    8    9   10   11   12 \n",
      " 2 |    2    4    6    8   10   12   14   16   18   20   22   24 \n",
      " 3 |    3    6    9   12   15   18   21   24   27   30   33   36 \n",
      " 4 |    4    8   12   16   20   24   28   32   36   40   44   48 \n",
      " 5 |    5   10   15   20   25   30   35   40   45   50   55   60 \n",
      " 6 |    6   12   18   24   30   36   42   48   54   60   66   72 \n",
      " 7 |    7   14   21   28   35   42   49   56   63   70   77   84 \n",
      " 8 |    8   16   24   32   40   48   56   64   72   80   88   96 \n",
      " 9 |    9   18   27   36   45   54   63   72   81   90   99  108 \n",
      "10 |   10   20   30   40   50   60   70   80   90  100  110  120 \n",
      "11 |   11   22   33   44   55   66   77   88   99  110  121  132 \n",
      "12 |   12   24   36   48   60   72   84   96  108  120  132  144 \n"
     ]
    }
   ],
   "source": [
    "# Your code here\n",
    "#row 생성\n",
    "def row(number, max_time):\n",
    "    row = []\n",
    "    for i in range(1,max_time+1):\n",
    "        row.append(number*i)\n",
    "    \n",
    "    return(row)\n",
    "    \n",
    "#row 출력    \n",
    "def print_row(row):\n",
    "    pr = str(row[0]).rjust(2) + \" | \"\n",
    "    for i in row:\n",
    "        pr = pr + str(i).rjust(4) + ' '\n",
    "    print(pr)\n",
    "    \n",
    "#맨 위 header 출력\n",
    "def print_header(max_time):\n",
    "    header = '     '\n",
    "    for i in range(1,max_time+1):\n",
    "        header = header + str(i).rjust(4) + ' '\n",
    "    print(header)\n",
    "    print('    ' + '-----'*max_time)\n",
    "\n",
    "#위 함수 통합하여 timetable 출력\n",
    "def times_table(max_time):\n",
    "    print_header(max_time)\n",
    "    for i in range(1,max_time+1):\n",
    "          print_row(row(i,max_time))\n",
    "            \n",
    "times_table(12)"
   ]
  },
  {
   "cell_type": "markdown",
   "metadata": {},
   "source": [
    "### Problem 7. Pascal’s triangle\n",
    "\n",
    "This is a slight variation on the previous exercise. The goal is to generate [Pascal's Triangle](http://en.wikipedia.org/wiki/Pascal's_triangle):\n",
    "\n",
    "<p><center><a href=\"http://commons.wikimedia.org/wiki/File:PascalTriangleAnimated2.gif#mediaviewer/File:PascalTriangleAnimated2.gif\"><img src=\"http://upload.wikimedia.org/wikipedia/commons/0/0d/PascalTriangleAnimated2.gif\" alt=\"PascalTriangleAnimated2.gif\"></a></center></p>\n",
    "\n",
    "The rules to generate the triangle are quite simple:\n",
    "\n",
    "* Each number is the sum of the two just above it, the above-left and the above-right one. (e.g. 5 on the last line is 1 + 4).\n",
    "* The top and sides of the triangle are initialised with 1s."
   ]
  },
  {
   "cell_type": "markdown",
   "metadata": {},
   "source": [
    ">**(a)** For this exercise, we’ll use a 2D list. This is really just a list of list, think of it like a matrix (or an Excel spreadsheet if you hate matrices). Example of usage:"
   ]
  },
  {
   "cell_type": "code",
   "execution_count": 18,
   "metadata": {
    "scrolled": true
   },
   "outputs": [
    {
     "data": {
      "text/plain": [
       "[[1], [2, 3], [4, 5, 6]]"
      ]
     },
     "execution_count": 18,
     "metadata": {},
     "output_type": "execute_result"
    }
   ],
   "source": [
    "list_list = [[1], [2, 3], [4, 5]]\n",
    "list_list[0]\n",
    "[1]\n",
    "list_list[0][0]\n",
    "1\n",
    "list_list[1][1]\n",
    "3\n",
    "list_list[2].append(6)\n",
    "list_list"
   ]
  },
  {
   "cell_type": "markdown",
   "metadata": {},
   "source": [
    ">Let’s first start by generating a 2D list with the exact same structure as Pascal’s triangle (we’ll compute the correct values later, let’s fill it up with 1’s for now). We need to generate a list of lists with 1 element in the first list, 2 elements in the second list, 3 on the third list, etc... Modify the following code, using nested loops, to create the correct result:"
   ]
  },
  {
   "cell_type": "code",
   "execution_count": 19,
   "metadata": {},
   "outputs": [
    {
     "name": "stdout",
     "output_type": "stream",
     "text": [
      "[[1], [1, 1], [1, 1, 1], [1, 1, 1, 1], [1, 1, 1, 1, 1]]\n"
     ]
    }
   ],
   "source": [
    "####\n",
    "# Pascal's Triangle\n",
    "#\n",
    "#  Create and print Pascal's triangle\n",
    "####\n",
    "\n",
    "number_lines = 6\n",
    "# Part (a)\n",
    "triangle = [[1]]\n",
    "\n",
    "for i in range(1,number_lines-1):\n",
    "    triangle.append([])\n",
    "    for j in range(i+1):\n",
    "        triangle[i].append(1)\n",
    "print(triangle)\n",
    "\n",
    "# Should get [[1], [1, 1], [1, 1, 1], [1, 1, 1, 1], [1, 1, 1, 1, 1]]"
   ]
  },
  {
   "cell_type": "markdown",
   "metadata": {},
   "source": [
    ">**Hint:** remember range iterates up to a variable’s value"
   ]
  },
  {
   "cell_type": "markdown",
   "metadata": {},
   "source": [
    ">**(b)** Write some code to print your 2D list as a triangle! Where are the above-left and above-right items associated with each element in this view? This is relevant, as it corresponds exactly to accessing the items of your triangle with indices."
   ]
  },
  {
   "cell_type": "raw",
   "metadata": {},
   "source": [
    "1\n",
    "1 1\n",
    "1 1 1 \n",
    "1 1 1 1\n",
    "1 1 1 1 1"
   ]
  },
  {
   "cell_type": "code",
   "execution_count": 20,
   "metadata": {},
   "outputs": [
    {
     "name": "stdout",
     "output_type": "stream",
     "text": [
      "1\n",
      "1 1\n",
      "1 1 1\n",
      "1 1 1 1\n",
      "1 1 1 1 1\n"
     ]
    }
   ],
   "source": [
    "number_lines = 6\n",
    "# Your code here\n",
    "for i in range(number_lines-1):\n",
    "    print(*triangle[i])"
   ]
  },
  {
   "cell_type": "markdown",
   "metadata": {},
   "source": [
    ">**(c)** Now modify your code to get the actual values of Pascal’s triangle. Remember you can access elements you already generated in a previous iteration of the for-loop (e.g. <code>triangle[i-1][j]</code>). You will have to be careful about accessing numbers that do not exist, add if-statements to handle special cases.\n",
    "(**Hint:** When you try to access the “above-right” element, you can compare i and j to figure out whether or not it exists)"
   ]
  },
  {
   "cell_type": "raw",
   "metadata": {},
   "source": [
    "1\n",
    "1 1\n",
    "1 2 1\n",
    "1 3 3 1\n",
    "1 4 6 4 1"
   ]
  },
  {
   "cell_type": "code",
   "execution_count": 23,
   "metadata": {},
   "outputs": [
    {
     "name": "stdout",
     "output_type": "stream",
     "text": [
      "1\n",
      "1 1\n",
      "1 2 1\n",
      "1 3 3 1\n",
      "1 4 6 4 1\n"
     ]
    }
   ],
   "source": [
    "# Your code here\n",
    "number_lines = 5\n",
    "\n",
    "#파스칼 삼각형 출력 함수 & 리스트 reutrn \n",
    "def pascal(number_lines,pr):\n",
    "    triangle = [[1]]\n",
    "\n",
    "    for i in range(1, number_lines):\n",
    "        triangle.append([])\n",
    "        for j in range(i+1):\n",
    "            if j == 0 or j == i :\n",
    "                triangle[i].append(1)\n",
    "            else:\n",
    "                triangle[i].append(triangle[i-1][j-1] + triangle[i-1][j])\n",
    "\n",
    "    if pr:\n",
    "        for i in range(number_lines):\n",
    "            print(*triangle[i])\n",
    "    return triangle\n",
    "\n",
    "pascal_l = pascal(number_lines,True)"
   ]
  },
  {
   "cell_type": "markdown",
   "metadata": {},
   "source": [
    ">**(d)** (advanced) Now modify the code printing your triangle to make it actually look just like the triangle shown at the start of the problem.\n",
    "You’ll have to adjust the space used by each element again, just like for the times table."
   ]
  },
  {
   "cell_type": "raw",
   "metadata": {},
   "source": [
    "           1            \n",
    "         1   1          \n",
    "       1   2   1        \n",
    "     1   3   3   1      \n",
    "   1   4   6   4   1    \n",
    " 1   5   10  10  5   1  "
   ]
  },
  {
   "cell_type": "code",
   "execution_count": 24,
   "metadata": {},
   "outputs": [
    {
     "name": "stdout",
     "output_type": "stream",
     "text": [
      "           1            \n",
      "         1   1          \n",
      "       1   2   1        \n",
      "     1   3   3   1      \n",
      "   1   4   6   4   1    \n",
      " 1   5   10  10  5   1  \n"
     ]
    }
   ],
   "source": [
    "# Your code here\n",
    "\n",
    "number_lines = 6\n",
    "\n",
    "triangle = pascal(number_lines,False)\n",
    "\n",
    "t_l = []\n",
    "for line in triangle:\n",
    "    num_l = []\n",
    "    for num in line:\n",
    "        num_l.append(str(num).center(4))\n",
    "    t_l.append(''.join(num_l).center(number_lines*4))\n",
    "\n",
    "for i in t_l:\n",
    "    print(i)"
   ]
  },
  {
   "cell_type": "markdown",
   "metadata": {},
   "source": [
    "### Problem 7. Scrolling display\n",
    "\n",
    "This exercise will get you to play with strings and indices. The goal is to create a simulation of a dot-matrix display, and scroll some text through it. Remember how your cheap alarm-clock shows time? That’s a dot-matrix display. We want to get something like that: http://www.youtube.com/watch?v=vWFPXTyoZCA"
   ]
  },
  {
   "cell_type": "markdown",
   "metadata": {},
   "source": [
    ">**(a)** We start easy, and just try to scroll some text directly. Complete the following code in order to print only display_width characters of the message.\n",
    "Here, we use a for loop."
   ]
  },
  {
   "cell_type": "code",
   "execution_count": 25,
   "metadata": {},
   "outputs": [
    {
     "name": "stdout",
     "output_type": "stream",
     "text": [
      "This is a completely relevant \n",
      "his is a completely relevant e\n",
      "is is a completely relevant ex\n",
      "s is a completely relevant exe\n",
      " is a completely relevant exer\n",
      "is a completely relevant exerc\n",
      "s a completely relevant exerci\n",
      " a completely relevant exercis\n",
      "a completely relevant exercise\n",
      " completely relevant exercise\n",
      "completely relevant exercise\n",
      "ompletely relevant exercise\n",
      "mpletely relevant exercise\n",
      "pletely relevant exercise\n",
      "letely relevant exercise\n",
      "etely relevant exercise\n",
      "tely relevant exercise\n",
      "ely relevant exercise\n",
      "ly relevant exercise\n"
     ]
    }
   ],
   "source": [
    "message = 'This is a completely relevant exercise'\n",
    "display_width = 15\n",
    "\n",
    "# Get the message length\n",
    "message_length = len(message)\n",
    "curr_start = 0\n",
    "\n",
    "# Grab the important part of the message display = '' # ... Replace me\n",
    "         # Show the results\n",
    "for i in range(19):\n",
    "    display = message[i:30+i]\n",
    "    print(display)"
   ]
  },
  {
   "cell_type": "markdown",
   "metadata": {},
   "source": [
    ">We should get something like this:"
   ]
  },
  {
   "cell_type": "raw",
   "metadata": {},
   "source": [
    "This is a completely relevant\n",
    "his is a completely relevant e\n",
    "is is a completely relevant ex\n",
    "s is a completely relevant exe\n",
    " is a completely relevant exer\n",
    "is a completely relevant exerc\n",
    "s a completely relevant exerci\n",
    " a completely relevant exercis\n",
    "a completely relevant exercise\n",
    " completely relevant exercise\n",
    "completely relevant exercise\n",
    "ompletely relevant exercise\n",
    "mpletely relevant exercise\n",
    "pletely relevant exercise\n",
    "letely relevant exercise\n",
    "etely relevant exercise\n",
    "tely relevant exercise\n",
    "ely relevant exercise\n",
    "ly relevant exercise"
   ]
  },
  {
   "cell_type": "markdown",
   "metadata": {},
   "source": [
    ">**(c)** Now we will make it so that the message is repeated accross the display. You will need to concatenate another part of the message at the end of the display string. You can modify the original string to add a few spaces at the end, so that it doesn’t repeat directly and look weird (e.g. instead of getting “exerciseThis” you should get “exercise This”). Your output should now be:"
   ]
  },
  {
   "cell_type": "raw",
   "metadata": {},
   "source": [
    "This is a completely relevant \n",
    "his is a completely relevant e\n",
    "is is a completely relevant ex\n",
    "s is a completely relevant exe\n",
    " is a completely relevant exer\n",
    "is a completely relevant exerc\n",
    "s a completely relevant exerci\n",
    " a completely relevant exercis\n",
    "a completely relevant exercise\n",
    " completely relevant exercise \n",
    "completely relevant exercise  \n",
    "ompletely relevant exercise   \n",
    "mpletely relevant exercise   T\n",
    "pletely relevant exercise   Th\n",
    "letely relevant exercise   Thi\n",
    "etely relevant exercise   This\n",
    "tely relevant exercise   This \n",
    "ely relevant exercise   This i\n",
    "ly relevant exercise   This is\n",
    "y relevant exercise   This is \n",
    " relevant exercise   This is a\n",
    "relevant exercise   This is a \n",
    "elevant exercise   This is a c\n",
    "levant exercise   This is a co\n",
    "evant exercise   This is a com"
   ]
  },
  {
   "cell_type": "code",
   "execution_count": 26,
   "metadata": {},
   "outputs": [
    {
     "name": "stdout",
     "output_type": "stream",
     "text": [
      "This is a completely relevant \n",
      "his is a completely relevant e\n",
      "is is a completely relevant ex\n",
      "s is a completely relevant exe\n",
      " is a completely relevant exer\n",
      "is a completely relevant exerc\n",
      "s a completely relevant exerci\n",
      " a completely relevant exercis\n",
      "a completely relevant exercise\n",
      " completely relevant exercise \n",
      "completely relevant exercise  \n",
      "ompletely relevant exercise   \n",
      "mpletely relevant exercise   T\n",
      "pletely relevant exercise   Th\n",
      "letely relevant exercise   Thi\n",
      "etely relevant exercise   This\n",
      "tely relevant exercise   This \n",
      "ely relevant exercise   This i\n",
      "ly relevant exercise   This is\n",
      "y relevant exercise   This is \n",
      " relevant exercise   This is a\n",
      "relevant exercise   This is a \n",
      "elevant exercise   This is a c\n",
      "levant exercise   This is a co\n",
      "evant exercise   This is a com\n"
     ]
    }
   ],
   "source": [
    "# Your code here\n",
    "message = 'This is a completely relevant exercise'\n",
    "display_width = 30\n",
    "\n",
    "# Get the message length\n",
    "message_length = len(message)\n",
    "curr_start = 0\n",
    "\n",
    "# Grab the important part of the message display = '' # ... Replace me\n",
    "         # Show the results\n",
    "for i in range(25):\n",
    "    display = message[i:30+i]+'   '+message[:i]\n",
    "    print(display[:30])"
   ]
  }
 ],
 "metadata": {
  "kernelspec": {
   "display_name": "Python 3",
   "language": "python",
   "name": "python3"
  },
  "language_info": {
   "codemirror_mode": {
    "name": "ipython",
    "version": 3
   },
   "file_extension": ".py",
   "mimetype": "text/x-python",
   "name": "python",
   "nbconvert_exporter": "python",
   "pygments_lexer": "ipython3",
   "version": "3.7.4"
  },
  "toc": {
   "base_numbering": 1,
   "nav_menu": {},
   "number_sections": true,
   "sideBar": true,
   "skip_h1_title": false,
   "title_cell": "Table of Contents",
   "title_sidebar": "Contents",
   "toc_cell": false,
   "toc_position": {
    "height": "calc(100% - 180px)",
    "left": "10px",
    "top": "150px",
    "width": "191.594px"
   },
   "toc_section_display": true,
   "toc_window_display": true
  }
 },
 "nbformat": 4,
 "nbformat_minor": 1
}

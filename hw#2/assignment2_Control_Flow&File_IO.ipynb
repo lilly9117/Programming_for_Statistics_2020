{
 "cells": [
  {
   "cell_type": "markdown",
   "metadata": {},
   "source": [
    "통계프로그래밍 assignment2a"
   ]
  },
  {
   "cell_type": "markdown",
   "metadata": {},
   "source": [
    "# Scientific Programming in Python - Control Flow & File IO"
   ]
  },
  {
   "cell_type": "markdown",
   "metadata": {},
   "source": [
    "### Problem 1. FizzBuzz"
   ]
  },
  {
   "cell_type": "markdown",
   "metadata": {},
   "source": [
    ">**(a)** Write a program that prints out the numbers between one and 100 except that:\n",
    "* for multiples of three it prints the word Fizz instead of that number;\n",
    "* for multiples of five it prints the word Buzz instead of that number; and\n",
    "* for multiples of both three and five it prints the word FizzBuzz instead of that number.\n",
    "\n",
    ">For example, the first 15 lines of output from your program should be identical to the following:"
   ]
  },
  {
   "cell_type": "raw",
   "metadata": {},
   "source": [
    "1\n",
    "2\n",
    "Fizz\n",
    "4\n",
    "Buzz\n",
    "Fizz\n",
    "7\n",
    "8\n",
    "Fizz\n",
    "Buzz\n",
    "11\n",
    "Fizz\n",
    "13\n",
    "14\n",
    "FizzBuzz"
   ]
  },
  {
   "cell_type": "code",
   "execution_count": 1,
   "metadata": {
    "scrolled": false
   },
   "outputs": [
    {
     "name": "stdout",
     "output_type": "stream",
     "text": [
      "1\n",
      "2\n",
      "Fizz\n",
      "4\n",
      "Buzz\n",
      "Fizz\n",
      "7\n",
      "8\n",
      "Fizz\n",
      "Buzz\n",
      "11\n",
      "Fizz\n",
      "13\n",
      "14\n",
      "FizzBuzz\n"
     ]
    }
   ],
   "source": [
    "# Your code here\n",
    "numbers = range(1,100) #숫자 먼저 정의하고\n",
    "\n",
    "def FizzBuzz(numbers):\n",
    "    for i in range(len(numbers)): #지정한 숫자만큼 for문 돈다\n",
    "        number = numbers[i] #number 하나씩 지정\n",
    "        if number % 3 ==0 and number % 5 == 0: #3의 배수, 5의 배수 둘다 해당\n",
    "            print('FizzBuzz') \n",
    "        elif number % 3 == 0: # 그 외 3의 배수 해당하는 경우\n",
    "            print('Fizz')\n",
    "        elif number % 5 == 0: # 그 외 5의 배수 해당하는 경우\n",
    "            print('Buzz')\n",
    "        else:\n",
    "            print(number)\n",
    "    \n",
    "FizzBuzz(numbers[:15])"
   ]
  },
  {
   "cell_type": "markdown",
   "metadata": {},
   "source": [
    ">**Hint:** If you are having trouble, start by writing code that will print all the numbers one to 100, one per line. Then, modify that code so that it prints the word Fizz instead of multiples of three. Next, modify your code to prints the word Buzz instead of multiples of five. Finally, modify it so that it prints the correct output."
   ]
  },
  {
   "cell_type": "markdown",
   "metadata": {},
   "source": [
    ">**Hint:** To test if a variable <code>n</code> is a multiple of three, you can use this code:\n",
    "\n",
    ">><code>(n % 3) == 0</code>\n",
    "\n",
    "> The <code>%</code> symbol here is called the [modulo operator](https://en.wikipedia.org/wiki/Modulo_operation) and the code <code>n % 3</code> is pronounced \"n modulo three\". So if <code>n</code> is zero modulo three, it gives 0 remainder on division by three and that means it’s a multiple of 3. You can use the code like this:\n",
    "\n",
    ">><code>if (n % 3) == 0:\n",
    "    do_stuff </code>\n",
    "\n",
    ">Here, <code>do_stuff</code> will be executed if and only if <code>n</code> is a multiple of 3."
   ]
  },
  {
   "cell_type": "markdown",
   "metadata": {},
   "source": [
    "### Problem 2. Library with File I/O"
   ]
  },
  {
   "cell_type": "markdown",
   "metadata": {},
   "source": [
    "In this problem, you are given a list of student names and library fees in a file and your task is to write some Python code to process it. Make sure you download [library_data.txt](http://ucl-cs-grad.github.io/scipython/notebooks/day2/library_data.txt) from the website and put it in the same folder as your iPython notebook. The file looks something like this:"
   ]
  },
  {
   "cell_type": "raw",
   "metadata": {},
   "source": [
    "123456 John Doe 1.49\n",
    "312314 Jane Miller 0.00\n",
    "031337 Ted Johnson 8.12"
   ]
  },
  {
   "cell_type": "markdown",
   "metadata": {},
   "source": [
    "Each line in the file is a single student record. Each student record has the following format:\n",
    "><code>StudentNumber FirstName LastName AmountOwed</code>"
   ]
  },
  {
   "cell_type": "markdown",
   "metadata": {},
   "source": [
    ">**(a)** Write a function that uses a for-loop to iterate over each line in the file and store it in a list. The resulting list should look something like this:"
   ]
  },
  {
   "cell_type": "raw",
   "metadata": {},
   "source": [
    "['123456 John Doe 1.49\\n', '312314 Jane Miller 0.00\\n', '031337 Ted Johnson 8.12\\n']"
   ]
  },
  {
   "cell_type": "code",
   "execution_count": 2,
   "metadata": {},
   "outputs": [
    {
     "name": "stdout",
     "output_type": "stream",
     "text": [
      "['123456 John Doe 1.49\\n', '312314 Jane Miller 0.00\\n', '531337 Ted Johnson 8.12\\n', '273263 Johnny Depp 0.0\\n', '102931 Fred Asteir 1.20\\n', '391273 Sarah Connor 10.39\\n']\n"
     ]
    }
   ],
   "source": [
    "# Your code here\n",
    "\n",
    "def line_list(file):\n",
    "    result_list = [] # 빈리스트 먼저 정의\n",
    "    \n",
    "    with open(file, \"r\") as infile: # 파일 불러와서\n",
    "        for line in infile: #한줄씩 불러오도록 for문\n",
    "            result_list.append(line) # 파일내에 있는 문장 한줄씩 list에 넣기\n",
    "            \n",
    "    return result_list #파일 내 문장들 list로 넣은 것 return 받아오기\n",
    "\n",
    "file = \"library_data.txt\"\n",
    "result = line_list(file)\n",
    "print(result)"
   ]
  },
  {
   "cell_type": "code",
   "execution_count": 3,
   "metadata": {},
   "outputs": [
    {
     "name": "stdout",
     "output_type": "stream",
     "text": [
      "['123456 John Doe 1.49\\n', '312314 Jane Miller 0.00\\n', '531337 Ted Johnson 8.12\\n']\n"
     ]
    }
   ],
   "source": [
    "print(result[:3])"
   ]
  },
  {
   "cell_type": "markdown",
   "metadata": {},
   "source": [
    ">**(b)** Write a function to create two lists:\n",
    ">1. A list that contains only the first column (the student number)\n",
    ">2. A list that contains only the remaining information (the student name and the amount of money owed to the library)"
   ]
  },
  {
   "cell_type": "markdown",
   "metadata": {},
   "source": [
    ">**Hint:** You could use the string method <code>split</code> to split a string into a list of smaller strings. Read the help for this function if needed."
   ]
  },
  {
   "cell_type": "code",
   "execution_count": 4,
   "metadata": {},
   "outputs": [
    {
     "name": "stdout",
     "output_type": "stream",
     "text": [
      "['123456', '312314', '531337', '273263', '102931', '391273']\n",
      "[['John', 'Doe', '1.49\\n'], ['Jane', 'Miller', '0.00\\n'], ['Ted', 'Johnson', '8.12\\n'], ['Johnny', 'Depp', '0.0\\n'], ['Fred', 'Asteir', '1.20\\n'], ['Sarah', 'Connor', '10.39\\n']]\n"
     ]
    }
   ],
   "source": [
    "# Your code here\n",
    "def student_info(file): # list에서 학생 번호와 나머지 정보 분리\n",
    "    student_number  = [] # 빈리스트 정의\n",
    "    remain_info = [] # 빈리스트 정의\n",
    "    \n",
    "    for info in file: # file에 있는 것 한 줄 씩 불러오고\n",
    "        number = info.split(\" \")[0] #한 리스트 분리 후 첫번째에 해당하는 부분만 가져오기\n",
    "        student_number.append(number) # number에 해당하는 값은 앞서 정의한 student_number에 넣는다\n",
    "        \n",
    "        remain = info.split(\" \")[1:] #한 리스트 분리 후 첫번째빼고 나머지에 해당하는 부분만 가져오기\n",
    "        remain_info.append(remain) #remain에 해당하는 값은 remain.info에 하나씩 더해간다\n",
    "        \n",
    "    return student_number, remain_info #완성한 리스트 return \n",
    "    \n",
    "data = line_list(file) # (a)함수로 구한 list 이용\n",
    "numberlist, remainlist = student_info(data)\n",
    "print(numberlist)\n",
    "print(remainlist)"
   ]
  },
  {
   "cell_type": "markdown",
   "metadata": {},
   "source": [
    ">**(c)** Write a function that splits the second list futher into two lists:\n",
    ">1. A list that contains the name\n",
    ">2. A list that contains the amount owed (as a float)"
   ]
  },
  {
   "cell_type": "code",
   "execution_count": 5,
   "metadata": {},
   "outputs": [
    {
     "name": "stdout",
     "output_type": "stream",
     "text": [
      "['John Doe', 'Jane Miller', 'Ted Johnson', 'Johnny Depp', 'Fred Asteir', 'Sarah Connor']\n",
      "[1.49, 0.0, 8.12, 0.0, 1.2, 10.39]\n"
     ]
    }
   ],
   "source": [
    "## Your code here\n",
    "def name_owed(remainlist): # 이름과 소유하고있는 amount뽑아오기 \n",
    "    name = [] # 빈리스트 정의\n",
    "    owed = [] # 빈리스트 정의\n",
    "    \n",
    "    for remain in remainlist: #받아온 remainlist에서 하나씩 꺼내온다\n",
    "        nm = \" \".join(remain[:2]) # 위에서 구한 나머지 정보에서 앞의 두부분을 join하면 하나의 이름이 된다\n",
    "        name.append(nm) #위에서 만든 nm을 name리스트에 하나씩 더해간다\n",
    "        \n",
    "        ow = float(remain[2]) # 나머지 부분에서 index 2에 해당하는 값\n",
    "        owed.append(ow) #ow값도 owed리스트에 더해간다\n",
    "        \n",
    "    return name, owed #완성한 리스트 return값으로 지정\n",
    "\n",
    "\n",
    "numberlist, remainlist = student_info(data) # (b)로 구한 list 사용\n",
    "name, owed = name_owed(remainlist) # 함수 return값 불러옴\n",
    "print(name)\n",
    "print(owed)"
   ]
  },
  {
   "cell_type": "markdown",
   "metadata": {},
   "source": [
    ">**(d)** Write a function that determines the name and student number of the person that owes the largest amount of money."
   ]
  },
  {
   "cell_type": "code",
   "execution_count": 6,
   "metadata": {},
   "outputs": [
    {
     "name": "stdout",
     "output_type": "stream",
     "text": [
      "The person that owes the largest amount of money\n",
      "Name: Sarah Connor\n",
      "student number: 391273\n",
      "amound of money: 10.39\n"
     ]
    }
   ],
   "source": [
    "# Your code here\n",
    "\n",
    "def det_largest(owed): # 가장 많은 money를 가지고 있는 사람의 이름과 student number\n",
    "    max_owed = max(owed) #가장 큰 값 \n",
    "    index = owed.index(max_owed) # 그 값의 index\n",
    "    return index #가장많은 money 갖고있는 사람의 index return\n",
    "\n",
    "name, owed = name_owed(remainlist) # (c)로 구한 list 사용\n",
    "index = det_largest(owed) \n",
    "print(\"The person that owes the largest amount of money\")\n",
    "print('Name: '+ name[index]) # 해당 index를 이용하여 가장 많은 money갖고 있는 사람의 이름  받아온다\n",
    "print('student number: ' + str(numberlist[index])) #동일한 방식으로 studen number과\n",
    "print('amound of money: ' + str(owed[index])) #money도 가져온다"
   ]
  },
  {
   "cell_type": "markdown",
   "metadata": {},
   "source": [
    ">**(e)** Write a function that determines the names and student numbers of all people that owe money (i.e. where the amount is not 0.00)."
   ]
  },
  {
   "cell_type": "code",
   "execution_count": 7,
   "metadata": {},
   "outputs": [
    {
     "name": "stdout",
     "output_type": "stream",
     "text": [
      "Name / Student_number / amount_of_money   \n",
      "John Doe / 123456 / 1.49\n",
      "Ted Johnson / 531337 / 8.12\n",
      "Fred Asteir / 102931 / 1.2\n",
      "Sarah Connor / 391273 / 10.39\n"
     ]
    }
   ],
   "source": [
    "# Your code here\n",
    "\n",
    "def det_owepeople(owed,name,numberlist): \n",
    "    owe_people = [] # 빈리스트 지정\n",
    "    for i in range(len(owed)): #\n",
    "        if owed[i] != 0.00: #소유하고 있는 돈이 0이 아닌 경우 모두 가져옴.\n",
    "            one_person = [] #빈리스트 지정 (한사람에 대한 리스트를 만드므로) 한 사람이 끝났을 때 다시 빈리스트로 초기화\n",
    "            one_person.append(name[i]) #해당 사람의 이름\n",
    "            one_person.append(numberlist[i]) #해당 사람의 student number\n",
    "            one_person.append(owed[i]) #해당 사람의 소유하고 있는 돈\n",
    "            owe_people.append(one_person) #하나의 리스트 완성하면 위의 전체 리스트에 더해준다\n",
    "    return owe_people #리스트 return\n",
    "\n",
    "owe_people = det_owepeople(owed, name, numberlist)\n",
    "print('Name / Student_number / amount_of_money   ')\n",
    "for i in range(len(owe_people)): #받아온 리스트를 한줄씩 돌면서 받아온다\n",
    "    print(owe_people[i][0] + ' / '+ str(owe_people[i][1])  + ' / '+ str(owe_people[i][2]))    "
   ]
  },
  {
   "cell_type": "markdown",
   "metadata": {},
   "source": [
    ">**(f)** We will now write our results to a new file. Write some code that:\n",
    "> 1. lets the user enter a file name;\n",
    "> 2. creates this file; and\n",
    "> 3. writes to the file the list of people that owe money (e.g. one student per line, with how much they owe as well)."
   ]
  },
  {
   "cell_type": "code",
   "execution_count": 9,
   "metadata": {},
   "outputs": [
    {
     "name": "stdout",
     "output_type": "stream",
     "text": [
      "Enter a file name: info\n"
     ]
    }
   ],
   "source": [
    "# Your code here\n",
    "\n",
    "file_name = input('Enter a file name: ') #파일이름을 지정할 수 있게 input함수 사용\n",
    "owe_people = det_owepeople(owed, name, numberlist) #위에서 정의한 함수 이용해서 돈 소유 사람의 list받아온다\n",
    "\n",
    "def write_newfile(file_name,owe_people): #위에서 구한 내용들 새로운 file로 저장\n",
    "    with open(file_name, 'w') as f: #파일에 내용을 쓰기위해 파일을 열고\n",
    "        for people in owe_people: #리스트에서 한줄씩, 즉 한사람씩 줄을 쓴다\n",
    "            line = ''\n",
    "            \n",
    "            for info in people: #한사람이 가지고 있는 정보들 하나씩 \n",
    "                line = line + str(info) + \" \"   #하나 쓰고 \" \"로 공백을 주고 다음거 쓰고 반복함         \n",
    "            line = line + \"\\n\" #한사람이 끝나면 '\\n'으로 다음줄로 넘어간다\n",
    "            f.write(line) #완성한 line file에 씀\n",
    "\n",
    "write_newfile(file_name, owe_people)"
   ]
  },
  {
   "cell_type": "markdown",
   "metadata": {},
   "source": [
    "test.txt \n",
    "\n",
    "John Doe 123456 1.49 <br>\n",
    "Ted Johnson 531337 8.12 <br>\n",
    "Fred Asteir 102931 1.2 <br>\n",
    "Sarah Connor 391273 10.39 \n"
   ]
  },
  {
   "cell_type": "markdown",
   "metadata": {},
   "source": [
    "### Problem 4. Who’s the winner?"
   ]
  },
  {
   "cell_type": "markdown",
   "metadata": {},
   "source": [
    "The London elections are around the corner and you have been tasked with writing the code that determines the winner given all the ballots. The winner is determined as follows:\n",
    "\n",
    "* From the list of candidates (which we will for simplicity number $0,1,2,...$ ), every voter gets to select his first and his second choice. The data you are given can thus be represented as a list of lists:\n",
    "\n",
    "><code>[ [1st_choice_voter_1, 2nd_choice_voter_1], [1st_choice_voter_2, 2nd_choice_voter_2], ...]</code>\n",
    "\n",
    "* If any of the candidates gets more than 50% of the first votes, he is declared the winner.\n",
    "\n",
    "\n",
    "* If no candidate achieves this absolute majority, the two candidates with the most first votes enter into a second round, all others are eliminated.  \n",
    "\n",
    "\n",
    "* In the second round, all ballots with first votes for candidates that did not enter the second round are re-examined, and any second choice votes for the top two candidates are added to their scores.  \n",
    "\n",
    "\n",
    "* The candidate with the highest number of combined first and second choice votes is the winner.  "
   ]
  },
  {
   "cell_type": "markdown",
   "metadata": {},
   "source": [
    ">**(a)** Download the file [votes.pickle](ucl-cs-grad.github.io/scipython/notebooks/day2/votes.pickle) from the course website. Then, use the following code to read the list of votes from the file:"
   ]
  },
  {
   "cell_type": "code",
   "execution_count": 10,
   "metadata": {},
   "outputs": [],
   "source": [
    "from pickle import * \n",
    "\n",
    "votes = load( open(\"votes.pickle\", \"rb\") ) #저장되어 있는 pickle파일을 불러온다"
   ]
  },
  {
   "cell_type": "markdown",
   "metadata": {},
   "source": [
    ">**(b)** Fill in the code required to count the first votes and to determine the possible first-round winner. There are 6 candidates in the given data set. You should find that in this data set no candidate wins in the first round."
   ]
  },
  {
   "cell_type": "code",
   "execution_count": 11,
   "metadata": {},
   "outputs": [
    {
     "name": "stdout",
     "output_type": "stream",
     "text": [
      "[10010, 26969, 23130, 4959, 14848, 20084]\n"
     ]
    }
   ],
   "source": [
    "num_candidates = 6\n",
    "\n",
    "# create a list to store the number of votes per candidate\n",
    "first_votes = [0] * num_candidates #미리 list만들어주고, 뒤에서 vote수 count할때 이 list의 해당 index를 후보자의 index라 생각하고 하나씩 더해감\n",
    "\n",
    "# go through the list of votes and add up the first votes per candidate\n",
    "\n",
    "### YOUR CODE HERE ###\n",
    "for (first,second) in votes:\n",
    "    first_votes[first] += 1 #첫번째 투표만이니까 미리 만들어둔 리스트에 해당 인덱스에 count 해간다\n",
    "\n",
    "print(first_votes)\n",
    "# in the first round, if any candidate has > 50% of the votes, he wins\n",
    "\n",
    "### YOUR CODE HERE ###\n",
    "for i in range(0, len(first_votes)): #firstvote길이만큼 for문으로 돌면서\n",
    "    if first_votes[i] > len(votes)/2.0: # 50%이상의 투표수를 가지는지 조건확인\n",
    "        print('Winner Candidate '+ str(i) + str(first_votes[i]/float(len(votes))) + '%')\n",
    "        #출력된 값이 없는 것을 보니, 해당하는 위너가 없다."
   ]
  },
  {
   "cell_type": "markdown",
   "metadata": {},
   "source": [
    ">**(c)** Implement the second round process described above. If you do this correctly, you should find that candidate 2 wins with 45619 votes. There are some hints in the skeleton below to get you started"
   ]
  },
  {
   "cell_type": "code",
   "execution_count": 12,
   "metadata": {},
   "outputs": [
    {
     "name": "stdout",
     "output_type": "stream",
     "text": [
      "[12021, 26969, 23130, 7234, 16683, 21581]\n",
      "1\n",
      "Winner Candidate index: 1\n",
      "Winner votes : 26969\n"
     ]
    }
   ],
   "source": [
    "# For the elimination round, we need to find the two candidates with the most first votes.\n",
    "# The code below does just that: It returns a tuple of the indices of the \n",
    "# top two candidates. Don't worry if you don't understand how this works yet --\n",
    "# we will see a much simpler and more elegant way to achieve the same later in the course.\n",
    "\n",
    "elimination_candidates  = list( zip ( *sorted( zip( first_votes, range( len(first_votes) ) ) )[-2:] ))[1]\n",
    "\n",
    "# make a copy so we can add votes\n",
    "second_votes = first_votes[:] #second vote를 위한 리스트 생성\n",
    "\n",
    "# add second votes to first votes for remaining candidates\n",
    "\n",
    "### YOUR CODE HERE ###\n",
    "for (first, second) in votes: #두번째까지 투표 진행 \n",
    "    if first not in elimination_candidates:#first에 해당하는 index가 elimination_candidates에 없을때\n",
    "        if second not in elimination_candidates: #second에도 해당하는 index가 elimination_candidates에 없을 때\n",
    "            if second != first: #first와 second 다를 경우 -> 이 모든 조건 해당할 때만\n",
    "                second_votes[second] +=1 #해당 index에 vote count\n",
    "print(second_votes)\n",
    "\n",
    "# find and display the winner\n",
    "# you can either try to adapt the code used to find the top two candidates above, \n",
    "# or simply use another for loop\n",
    "\n",
    "### YOUR CODE HERE ###\n",
    "winner = sorted( zip(first_votes, range(len(first_votes))))[-1][1]\n",
    "print(winner) # winner index 번호\n",
    "print(\"Winner Candidate index: \" + str(winner) )\n",
    "print(\"Winner votes : \"+ str(second_votes[winner]))"
   ]
  }
 ],
 "metadata": {
  "anaconda-cloud": {},
  "kernelspec": {
   "display_name": "Python 3",
   "language": "python",
   "name": "python3"
  },
  "language_info": {
   "codemirror_mode": {
    "name": "ipython",
    "version": 3
   },
   "file_extension": ".py",
   "mimetype": "text/x-python",
   "name": "python",
   "nbconvert_exporter": "python",
   "pygments_lexer": "ipython3",
   "version": "3.7.4"
  },
  "toc": {
   "base_numbering": 1,
   "nav_menu": {},
   "number_sections": true,
   "sideBar": true,
   "skip_h1_title": false,
   "title_cell": "Table of Contents",
   "title_sidebar": "Contents",
   "toc_cell": false,
   "toc_position": {},
   "toc_section_display": true,
   "toc_window_display": false
  }
 },
 "nbformat": 4,
 "nbformat_minor": 1
}

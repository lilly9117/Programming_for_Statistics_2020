{
 "cells": [
  {
   "cell_type": "markdown",
   "metadata": {},
   "source": [
    "통계프로그래밍 assignment2b 1870091 최혜빈"
   ]
  },
  {
   "cell_type": "markdown",
   "metadata": {},
   "source": [
    "# Scientific Programming in Python - Dictionaries and Functions"
   ]
  },
  {
   "cell_type": "markdown",
   "metadata": {},
   "source": [
    "### Problem 4. ArgMax and ArgSort"
   ]
  },
  {
   "cell_type": "markdown",
   "metadata": {},
   "source": [
    ">**(a)** Finding the index of the largest (or smallest) element in a list is a commonly needed opera-\n",
    "tion, but Python does not provide this function in its standard library (numpy will provide those). Write two functions\n"
   ]
  },
  {
   "cell_type": "code",
   "execution_count": 1,
   "metadata": {},
   "outputs": [],
   "source": [
    "def argmax(list_input): #finding the index of the largest element\n",
    "    idx = None #idx 초기화\n",
    "    for i, value in enumerate(list_input): #enumerate로 index와 value값 가져오기\n",
    "        if i==0: \n",
    "            rank = value # 첫번째는 그대로\n",
    "        elif value > rank: #현재 rank값에 있는 값보다 큰 값이 나타났을 때\n",
    "            idx = i #해당 index로 다시 정의 \n",
    "            rank = value # 새로 변수에 value값으로 rank값을 정의\n",
    "    return idx #index return 받아오기\n",
    "    \n",
    "def argmin(list_input): #finding the index of the smallest element\n",
    "    idx = None #idx 초기화\n",
    "    for i, value in enumerate(list_input): #enumerate로 index와 value값 가져오기\n",
    "        if i==0:\n",
    "            rank = value # 첫번째는 그대로\n",
    "        elif value < rank: #현재 rank값에 있는 값보다 작은 값이 나타났을 때\n",
    "            idx = i #해당 index로 다시 정의 \n",
    "            rank = value # 새로 변수에 value값으로 rank값을 정의\n",
    "    return idx #index return 받아오기"
   ]
  },
  {
   "cell_type": "markdown",
   "metadata": {},
   "source": [
    ">that return the index of the largest and smallest element in the list *list_input* respectively. Example output:\n"
   ]
  },
  {
   "cell_type": "markdown",
   "metadata": {},
   "source": [
    "    >>> list1 = [1,3,2,6,0,2,3,4,5]\n",
    "    >>> argmax(list1)\n",
    "    3\n",
    "    >>> argmin(list1)\n",
    "    4"
   ]
  },
  {
   "cell_type": "code",
   "execution_count": 2,
   "metadata": {},
   "outputs": [
    {
     "data": {
      "text/plain": [
       "3"
      ]
     },
     "execution_count": 2,
     "metadata": {},
     "output_type": "execute_result"
    }
   ],
   "source": [
    "# try it here\n",
    "list1 = [1,3,2,6,0,2,3,4,5]\n",
    "argmax(list1) #최대값 index"
   ]
  },
  {
   "cell_type": "code",
   "execution_count": 3,
   "metadata": {},
   "outputs": [
    {
     "data": {
      "text/plain": [
       "4"
      ]
     },
     "execution_count": 3,
     "metadata": {},
     "output_type": "execute_result"
    }
   ],
   "source": [
    "argmin(list1) #최소값 index"
   ]
  },
  {
   "cell_type": "markdown",
   "metadata": {},
   "source": [
    ">**(b)** **(extra)** Instead of just finding the index of the largest or smallest element, one might be interested in the entire list of indices that would sort the list. In one of the previous exercises we presented you with this piece of code for finding the indices that sort a list.\n"
   ]
  },
  {
   "cell_type": "code",
   "execution_count": 4,
   "metadata": {},
   "outputs": [
    {
     "name": "stdout",
     "output_type": "stream",
     "text": [
      "(0, 1, 2, 2, 3, 3, 4, 5, 6)\n",
      "(4, 0, 2, 5, 1, 6, 7, 8, 3)\n"
     ]
    }
   ],
   "source": [
    "l = [1,3,2,6,0,2,3,4,5]\n",
    "# zip(*sorted(zip(l, range(len(l)))))[1]\n",
    "for values in zip(*sorted(zip(l, range(len(l))))):\n",
    "    print(values) # 오름차순으로 sort하는데 그에 해당하는 index를 순서대로 정렬하도록 한다\n",
    "    #list자체를 정렬한 것과, index로 구성된거 두개가 출력된다"
   ]
  },
  {
   "cell_type": "markdown",
   "metadata": {},
   "source": [
    ">It works by combining the list with the list of indices, sorting the combined list, and then untangling the results. Have a look at the documentation of the *zip* function to understand how it works. Write a function:"
   ]
  },
  {
   "cell_type": "code",
   "execution_count": 5,
   "metadata": {},
   "outputs": [
    {
     "data": {
      "text/plain": [
       "[4, 0, 2, 5, 1, 6, 7, 8, 3]"
      ]
     },
     "execution_count": 5,
     "metadata": {},
     "output_type": "execute_result"
    }
   ],
   "source": [
    "def argsort(l): \n",
    "# your code here\n",
    "    sorted_idx = [] #빈리스트 정의\n",
    "    item = [] #빈리스트 정의 \n",
    "    for idx, value in enumerate(l): #enumerate를 이용해서 불러온 리스트의 index와 해당값 가져오고\n",
    "        item.append((value, idx)) #value와 idx를 묶어서 item에 저장\n",
    "\n",
    "    for value, idx in sorted(item): #위에서 정의한 item을 value값이 오름차순으로 정렬되도록 sort한 후 value값과 index값 가져와서\n",
    "        sorted_idx.append(idx) #sort한 value값의 index값들을 빈 리스트에 하나씩 더해감\n",
    "    \n",
    "    return sorted_idx #index list return\n",
    "              \n",
    "argsort(l)"
   ]
  },
  {
   "cell_type": "markdown",
   "metadata": {},
   "source": [
    ">that returns the list of indices that would sort the list, but instead of using the hard to read\n",
    "line above that uses zip, use list comprehensions. Example output:"
   ]
  },
  {
   "cell_type": "markdown",
   "metadata": {},
   "source": [
    "    >>> l = [1,3,2,6,0,2,3,4,5]\n",
    "    >>> argsort(l)\n",
    "    [4, 0, 2, 5, 1, 6, 7, 8, 3]\n",
    "    >>> [l[i] for i in argsort(l)]\n",
    "    [0, 1, 2, 2, 3, 3, 4, 5, 6]\n"
   ]
  },
  {
   "cell_type": "code",
   "execution_count": 6,
   "metadata": {},
   "outputs": [
    {
     "name": "stdout",
     "output_type": "stream",
     "text": [
      "[4, 0, 2, 5, 1, 6, 7, 8, 3]\n",
      "[0, 1, 2, 2, 3, 3, 4, 5, 6]\n"
     ]
    }
   ],
   "source": [
    "# try it here\n",
    "l = [1,3,2,6,0,2,3,4,5]\n",
    "print(argsort(l)) #위에서 정의한 indexlist가져온다\n",
    "print([l[i] for i in argsort(l)]) #index list에 맞춰서 해당 값들을 불러오면 sort된 list가 출력된다."
   ]
  },
  {
   "cell_type": "markdown",
   "metadata": {},
   "source": [
    "### Problem 5. Simple ciphers\n"
   ]
  },
  {
   "cell_type": "markdown",
   "metadata": {},
   "source": [
    "Suppose you wish to send your friend a message, and if someone happens to look at it, you do not want them to know what it says.<br>\n",
    "A simple way of doing this is to replace each letter, with\n",
    "a different one.<br>\n",
    "For example, suppose I wish to send the phrase “dancing is silent poetry”.<br>\n",
    "By exchanging each letter with another, we can encode this as: “robqwbu wg gwzsbh dcshfm”."
   ]
  },
  {
   "cell_type": "markdown",
   "metadata": {},
   "source": [
    ">**(a)** Write a function that swaps the letter in a string according to a dictionary. For example:\n"
   ]
  },
  {
   "cell_type": "code",
   "execution_count": 7,
   "metadata": {},
   "outputs": [],
   "source": [
    "def swapdict(string, dic): #일부 문자 다른 문자로 바꾸는 함수\n",
    "    # your code here\n",
    "    swap = '' #빈 문자열 정의\n",
    "    for s in string: #불러온 문자를 한 문자씩 가져와서\n",
    "        if s in dic: #해당 문자가 dic에 존재하면\n",
    "            swap += dic[s] # 해당 문자를 바꿔준다. dictionary로 정의되어 있는 바꿀 문자(dic[s])를 sawp에 더해준다\n",
    "        else: #해당사항 없는 경우\n",
    "            swap += s #그냥 바로 그 문자를 swap에 더해준다\n",
    "    return swap #바뀐 문자 return"
   ]
  },
  {
   "cell_type": "markdown",
   "metadata": {},
   "source": [
    "    >>> print swapdict('hello', {'e': 'i'})\n",
    "    hillo\n",
    "    >>> print swapdict('hello', {'l': 'w'})\n",
    "    hewwo\n",
    "    >>> print swapdict('hello', {'l': 'm', 'h': 'p', 'e': 'o', 'o': 'e'})\n",
    "    pomme"
   ]
  },
  {
   "cell_type": "code",
   "execution_count": 8,
   "metadata": {},
   "outputs": [
    {
     "name": "stdout",
     "output_type": "stream",
     "text": [
      "hillo\n"
     ]
    }
   ],
   "source": [
    "# your code here\n",
    "print(swapdict('hello', {'e': 'i'}))"
   ]
  },
  {
   "cell_type": "code",
   "execution_count": 9,
   "metadata": {},
   "outputs": [
    {
     "name": "stdout",
     "output_type": "stream",
     "text": [
      "hewwo\n"
     ]
    }
   ],
   "source": [
    "print(swapdict('hello', {'l': 'w'}))"
   ]
  },
  {
   "cell_type": "code",
   "execution_count": 10,
   "metadata": {},
   "outputs": [
    {
     "name": "stdout",
     "output_type": "stream",
     "text": [
      "pomme\n"
     ]
    }
   ],
   "source": [
    "print(swapdict('hello', {'l': 'm', 'h': 'p', 'e': 'o', 'o': 'e'}))"
   ]
  },
  {
   "cell_type": "markdown",
   "metadata": {},
   "source": [
    ">**(b)** Write a function that generates a dictionary whose keys are letters of the alphabet, and whose values are those letters shifted along by a given number of letters.\n"
   ]
  },
  {
   "cell_type": "code",
   "execution_count": 11,
   "metadata": {
    "scrolled": true
   },
   "outputs": [
    {
     "name": "stdout",
     "output_type": "stream",
     "text": [
      "abcdefghijklmnopqrstuvwxyz\n"
     ]
    }
   ],
   "source": [
    "import string #string 라이브러리 불러오기\n",
    "alphabet = string.ascii_lowercase #알파벳 가져오는 함수\n",
    "print(alphabet)"
   ]
  },
  {
   "cell_type": "code",
   "execution_count": 12,
   "metadata": {},
   "outputs": [],
   "source": [
    "def shiftdict(i):\n",
    "    # your code here\n",
    "    shiftdict = {} #빈 dictionary 정의\n",
    "    for s in alphabet: #앞서 정의한 알파벳 한 문자씩 가져와서\n",
    "        shifted = ord(s)+i #문자를 ord를 사용해서 ascii 값으로 바꾸고 shift시킬 수만큼 더해서 shift된 수를 정의\n",
    "        \n",
    "        if shifted > ord('z'): #해당 문자 z를 넘어갈 경우 \n",
    "            shifted = ord('a') + (shifted - ord('z')) -1 #a로 다시 돌아와서 시작해야하므로 a에 (shift-z)를 더하고 ndex맞춰주기 위해 1을 빼준다\n",
    "        elif shifted < ord('a'): #해당 문자가 a의 전으로 가버릴 경우  \n",
    "            shifted = ord('z') - (ord('a') - shifted) + 1 #z 쪽으로 돌아가야하므로 z에 (a-shit)를 빼고 ndex맞춰주기 위해 1을 더한다\n",
    "        shiftdict[s] = chr(shifted) #다시 문자로 바꿔주기 위해 chr사용\n",
    "        \n",
    "    return shiftdict  #바뀐 dictionary return 받는다"
   ]
  },
  {
   "cell_type": "markdown",
   "metadata": {},
   "source": [
    "    >>> print shiftdict(0)\n",
    "    {'a': 'a', 'b': 'b', ..., 'z': 'z'}\n",
    "    >>> print shiftdict(3)\n",
    "    {'a': 'd', 'b': 'e', ..., 'z': 'c'}\n",
    "    >>> print shiftdict(13)\n",
    "    {'a': 'n', 'b': 'o', ..., 'z': 'm'}"
   ]
  },
  {
   "cell_type": "markdown",
   "metadata": {},
   "source": [
    ">In the first case, the letters are not shifted, because the argument to *shiftdict* is zero. In the second case, letters are shifted along by three letters: “a” is the first letter, and “d” is the forth letter, and so key “a” points to letter “d”."
   ]
  },
  {
   "cell_type": "code",
   "execution_count": 13,
   "metadata": {},
   "outputs": [
    {
     "name": "stdout",
     "output_type": "stream",
     "text": [
      "{'a': 'a', 'b': 'b', 'c': 'c', 'd': 'd', 'e': 'e', 'f': 'f', 'g': 'g', 'h': 'h', 'i': 'i', 'j': 'j', 'k': 'k', 'l': 'l', 'm': 'm', 'n': 'n', 'o': 'o', 'p': 'p', 'q': 'q', 'r': 'r', 's': 's', 't': 't', 'u': 'u', 'v': 'v', 'w': 'w', 'x': 'x', 'y': 'y', 'z': 'z'}\n"
     ]
    }
   ],
   "source": [
    "print(shiftdict(0))"
   ]
  },
  {
   "cell_type": "code",
   "execution_count": 14,
   "metadata": {},
   "outputs": [
    {
     "name": "stdout",
     "output_type": "stream",
     "text": [
      "{'a': 'd', 'b': 'e', 'c': 'f', 'd': 'g', 'e': 'h', 'f': 'i', 'g': 'j', 'h': 'k', 'i': 'l', 'j': 'm', 'k': 'n', 'l': 'o', 'm': 'p', 'n': 'q', 'o': 'r', 'p': 's', 'q': 't', 'r': 'u', 's': 'v', 't': 'w', 'u': 'x', 'v': 'y', 'w': 'z', 'x': 'a', 'y': 'b', 'z': 'c'}\n"
     ]
    }
   ],
   "source": [
    "# try it here\n",
    "print(shiftdict(3))"
   ]
  },
  {
   "cell_type": "code",
   "execution_count": 15,
   "metadata": {},
   "outputs": [
    {
     "name": "stdout",
     "output_type": "stream",
     "text": [
      "{'a': 'n', 'b': 'o', 'c': 'p', 'd': 'q', 'e': 'r', 'f': 's', 'g': 't', 'h': 'u', 'i': 'v', 'j': 'w', 'k': 'x', 'l': 'y', 'm': 'z', 'n': 'a', 'o': 'b', 'p': 'c', 'q': 'd', 'r': 'e', 's': 'f', 't': 'g', 'u': 'h', 'v': 'i', 'w': 'j', 'x': 'k', 'y': 'l', 'z': 'm'}\n"
     ]
    }
   ],
   "source": [
    "print(shiftdict(13))"
   ]
  },
  {
   "cell_type": "markdown",
   "metadata": {},
   "source": [
    ">**(c)** Now we are ready to encode our message: “dancing is silent poetry”.\n"
   ]
  },
  {
   "cell_type": "markdown",
   "metadata": {},
   "source": [
    "    >>> print swapdict('dancing is silent poetry', shiftdict(14))"
   ]
  },
  {
   "cell_type": "code",
   "execution_count": 16,
   "metadata": {},
   "outputs": [
    {
     "name": "stdout",
     "output_type": "stream",
     "text": [
      "robqwbu wg gwzsbh dcshfm\n"
     ]
    }
   ],
   "source": [
    "# your code here\n",
    "print(swapdict('dancing is silent poetry', shiftdict(14))) #위의 함수 사용해서 swap한다"
   ]
  },
  {
   "cell_type": "markdown",
   "metadata": {},
   "source": [
    ">Check that it matches the encoding given above.\n"
   ]
  },
  {
   "cell_type": "markdown",
   "metadata": {},
   "source": [
    ">**(d)** Write a function that takes a dictionary and swaps the roles of the keys and the values.\n"
   ]
  },
  {
   "cell_type": "code",
   "execution_count": 17,
   "metadata": {},
   "outputs": [],
   "source": [
    "def invertdict(dictionary):  #dictionary에 있는 각각의 key와 value값을 바꿔준다\n",
    "# your code here\n",
    "    return dict((b,a) for a,b in dictionary.items()) \n",
    "    #딕셔너리의 key와 value값을 튜플로 묶어서 나오는 items함수를 사용해서 key와 value값을 불러오고\n",
    "    #모든 값들에 대해 둘의 자리를 바꾸고 튜플형태로 만든 뒤 다시 dictionary로 바꿔 return받는다"
   ]
  },
  {
   "cell_type": "markdown",
   "metadata": {},
   "source": [
    "Here are some examples to check it works:"
   ]
  },
  {
   "cell_type": "markdown",
   "metadata": {},
   "source": [
    "    >>> invertdict({'a':'b'})\n",
    "    {'b': 'a'}\n",
    "    >>> invertdict({'b':'a', 'a': 'b'})\n",
    "    {'a': 'b', 'b': 'a'}\n",
    "    >>> invertdict({'a':'b', 'b': 'c', 'c': 'a'})\n",
    "    {'a': 'c', 'b': 'a','c': 'b'}"
   ]
  },
  {
   "cell_type": "code",
   "execution_count": 18,
   "metadata": {},
   "outputs": [
    {
     "name": "stdout",
     "output_type": "stream",
     "text": [
      "{'b': 'a'}\n"
     ]
    }
   ],
   "source": [
    "# your code here\n",
    "print(invertdict({'a':'b'})) "
   ]
  },
  {
   "cell_type": "code",
   "execution_count": 19,
   "metadata": {},
   "outputs": [
    {
     "name": "stdout",
     "output_type": "stream",
     "text": [
      "{'a': 'b', 'b': 'a'}\n"
     ]
    }
   ],
   "source": [
    "print(invertdict({'b':'a', 'a': 'b'})) "
   ]
  },
  {
   "cell_type": "code",
   "execution_count": 20,
   "metadata": {},
   "outputs": [
    {
     "name": "stdout",
     "output_type": "stream",
     "text": [
      "{'b': 'a', 'c': 'b', 'a': 'c'}\n"
     ]
    }
   ],
   "source": [
    "print(invertdict({'a':'b', 'b': 'c', 'c': 'a'}))"
   ]
  },
  {
   "cell_type": "markdown",
   "metadata": {},
   "source": [
    ">**(e)** Can you decode this message, that was encoded using the same scheme? “qzuipo nblft ju tjnqmf ipqfgvmmz”. Use only *invertdict*, *swapdict* and *shiftdict*.\n"
   ]
  },
  {
   "cell_type": "code",
   "execution_count": 21,
   "metadata": {},
   "outputs": [
    {
     "name": "stdout",
     "output_type": "stream",
     "text": [
      "python makes it simple hopefully\n"
     ]
    }
   ],
   "source": [
    "# your code here\n",
    "print(swapdict('qzuipo nblft ju tjnqmf ipqfgvmmz', shiftdict(25))) #올바른 문장이 나오도록 하려면 25만큼 shift해야한다"
   ]
  },
  {
   "cell_type": "markdown",
   "metadata": {},
   "source": [
    ">**(f)** You notice that your friend is sending encrypted messages to other people, but they appear to be encoded using a different argument to shiftdict.<br>\n",
    "Use a for-loop, swapdict and shiftdict to work out the encoding scheme, and what this message says: “nyhcpaf pz aol yvva vm spnoaulzz”.\n"
   ]
  },
  {
   "cell_type": "code",
   "execution_count": 22,
   "metadata": {},
   "outputs": [
    {
     "name": "stdout",
     "output_type": "stream",
     "text": [
      "nyhcpaf pz aol yvva vm spnoaulzz\n",
      "ozidqbg qa bpm zwwb wn tqopbvmaa\n",
      "pajerch rb cqn axxc xo urpqcwnbb\n",
      "qbkfsdi sc dro byyd yp vsqrdxocc\n",
      "rclgtej td esp czze zq wtrseypdd\n",
      "sdmhufk ue ftq daaf ar xustfzqee\n",
      "tenivgl vf gur ebbg bs yvtugarff\n",
      "ufojwhm wg hvs fcch ct zwuvhbsgg\n",
      "vgpkxin xh iwt gddi du axvwicthh\n",
      "whqlyjo yi jxu heej ev bywxjduii\n",
      "xirmzkp zj kyv iffk fw czxykevjj\n",
      "yjsnalq ak lzw jggl gx dayzlfwkk\n",
      "zktobmr bl max khhm hy ebzamgxll\n",
      "alupcns cm nby liin iz fcabnhymm\n",
      "bmvqdot dn ocz mjjo ja gdbcoiznn\n",
      "cnwrepu eo pda nkkp kb hecdpjaoo\n",
      "doxsfqv fp qeb ollq lc ifdeqkbpp\n",
      "epytgrw gq rfc pmmr md jgefrlcqq\n",
      "fqzuhsx hr sgd qnns ne khfgsmdrr\n",
      "gravity is the root of lightness\n",
      "hsbwjuz jt uif sppu pg mjhiuoftt\n",
      "itcxkva ku vjg tqqv qh nkijvpguu\n",
      "judylwb lv wkh urrw ri oljkwqhvv\n",
      "kvezmxc mw xli vssx sj pmklxriww\n",
      "lwfanyd nx ymj wtty tk qnlmysjxx\n",
      "mxgboze oy znk xuuz ul romnztkyy\n",
      "nyhcpaf pz aol yvva vm spnoaulzz\n",
      "ozidqbg q{ bpm zwwb wn tqopbvm{{\n",
      "p{jerch r| cqn {xxc xo urpqcwn||\n",
      "q|kfsdi s} dro |yyd yp vsqrdxo}}\n"
     ]
    }
   ],
   "source": [
    "for i in range(30):\n",
    "    print(swapdict('nyhcpaf pz aol yvva vm spnoaulzz', shiftdict(i))) #19번째"
   ]
  },
  {
   "cell_type": "code",
   "execution_count": 23,
   "metadata": {},
   "outputs": [
    {
     "name": "stdout",
     "output_type": "stream",
     "text": [
      "gravity is the root of lightness\n"
     ]
    }
   ],
   "source": [
    "print(swapdict('nyhcpaf pz aol yvva vm spnoaulzz', shiftdict(19))) # 해당 인덱스 19번"
   ]
  }
 ],
 "metadata": {
  "kernelspec": {
   "display_name": "Python 3",
   "language": "python",
   "name": "python3"
  },
  "language_info": {
   "codemirror_mode": {
    "name": "ipython",
    "version": 3
   },
   "file_extension": ".py",
   "mimetype": "text/x-python",
   "name": "python",
   "nbconvert_exporter": "python",
   "pygments_lexer": "ipython3",
   "version": "3.7.4"
  },
  "toc": {
   "base_numbering": 1,
   "nav_menu": {},
   "number_sections": true,
   "sideBar": true,
   "skip_h1_title": false,
   "title_cell": "Table of Contents",
   "title_sidebar": "Contents",
   "toc_cell": false,
   "toc_position": {},
   "toc_section_display": true,
   "toc_window_display": false
  }
 },
 "nbformat": 4,
 "nbformat_minor": 1
}
